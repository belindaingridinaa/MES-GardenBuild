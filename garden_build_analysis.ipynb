{
 "cells": [
  {
   "cell_type": "markdown",
   "metadata": {
    "id": "H-z4QGlO8DC1"
   },
   "source": [
    "# Import Library & Port Forward"
   ]
  },
  {
   "cell_type": "markdown",
   "metadata": {
    "id": "V02sF0_6FyX0"
   },
   "source": [
    "## Fetching Data from MySQL into a Pandas DataFrame\n",
    "\n",
    "### Setup\n",
    "\n",
    "Beberapa paket yang harus diinstall sebelum menjalankan program.\n",
    "Anda bisa menginstall paket dibawah ini pada anaconda prompt atau jupyter notebook\n",
    "\n",
    "paket `mysql-connector-python` untuk menyambung ke basis data MySQL dan paket `pandas` untuk bekerja dengan DataFrames\n",
    "```bash\n",
    "pip install mysql-connector-python\n",
    "```"
   ]
  },
  {
   "cell_type": "code",
   "execution_count": 123,
   "metadata": {
    "colab": {
     "base_uri": "https://localhost:8080/"
    },
    "id": "WDvNIDvMFyX2",
    "outputId": "30425454-8f3f-4c75-b7d0-ff3185d01474"
   },
   "outputs": [],
   "source": [
    "# install mysql connector di jupyter notebook\n",
    "# !pip install mysql-connector-python"
   ]
  },
  {
   "cell_type": "code",
   "execution_count": 125,
   "metadata": {
    "id": "FVYwaObI8DC1"
   },
   "outputs": [],
   "source": [
    "import numpy as np\n",
    "import pandas as pd\n",
    "import matplotlib.pyplot as plt\n",
    "import seaborn as sns\n",
    "\n",
    "import mysql.connector\n",
    "from mysql.connector import Error\n",
    "\n",
    "# import warning to ignore warning\n",
    "import warnings\n",
    "warnings.filterwarnings('ignore')"
   ]
  },
  {
   "cell_type": "code",
   "execution_count": 127,
   "metadata": {
    "id": "qIIZrWkuFyX5",
    "tags": []
   },
   "outputs": [],
   "source": [
    "# function to open connection to db\n",
    "def connect_to_db(host_name, port_name, user_name, user_password, db_name):\n",
    "    connection = None\n",
    "    try:\n",
    "        connection = mysql.connector.connect(\n",
    "            host=host_name,\n",
    "            port=port_name,\n",
    "            user=user_name,\n",
    "            passwd=user_password,\n",
    "            database=db_name\n",
    "        )\n",
    "        print(\"MySQL Database connection successful\")\n",
    "    except Error as err:\n",
    "        print(f\"Error: '{err}'\")\n",
    "\n",
    "    return connection"
   ]
  },
  {
   "cell_type": "code",
   "execution_count": 129,
   "metadata": {
    "id": "Gv4IX_LLFyX6",
    "tags": []
   },
   "outputs": [],
   "source": [
    "# define mysql details\n",
    "host   = 'okegarden-laravel-prod-db-2024-11-15-0200.cgwhhgh85mr3.ap-southeast-3.rds.amazonaws.com'\n",
    "port   = 3306\n",
    "user   = 'intern_mes'\n",
    "passwd = 'sdfDFLES342982Ddlsdksd'\n",
    "databs = 'okegarden_laravel_prod_db'"
   ]
  },
  {
   "cell_type": "code",
   "execution_count": 131,
   "metadata": {
    "colab": {
     "base_uri": "https://localhost:8080/"
    },
    "id": "PnmAGVMkFyX7",
    "outputId": "fdc15a85-a531-4b7f-eb21-f5e4ecab5edb",
    "tags": []
   },
   "outputs": [
    {
     "name": "stdout",
     "output_type": "stream",
     "text": [
      "MySQL Database connection successful\n"
     ]
    },
    {
     "data": {
      "text/plain": [
       "<mysql.connector.connection_cext.CMySQLConnection at 0x21f765e1f10>"
      ]
     },
     "execution_count": 131,
     "metadata": {},
     "output_type": "execute_result"
    }
   ],
   "source": [
    "# try to connect to sakila database\n",
    "connect_to_db(host, port, user, passwd, databs)"
   ]
  },
  {
   "cell_type": "markdown",
   "metadata": {
    "id": "EDNp5IoLFyX8"
   },
   "source": [
    "## Writing the Function to Fetch Data"
   ]
  },
  {
   "cell_type": "code",
   "execution_count": 134,
   "metadata": {
    "id": "KJEczQN8FyX9",
    "tags": []
   },
   "outputs": [],
   "source": [
    "# function to fetch data from database, the connection is closed after use.\n",
    "def fetch_data(host_name, port_name, user_name, user_password, db_name, query, params=None):\n",
    "    try:\n",
    "        # use with to ensure the connection is closed after use\n",
    "        with mysql.connector.connect(\n",
    "            host=host_name,\n",
    "            port=port_name,\n",
    "            user=user_name,\n",
    "            password=user_password,\n",
    "            database=db_name\n",
    "        ) as connection:\n",
    "            data = pd.read_sql(query, connection, params=params) # read the query to dataframe format\n",
    "            return data\n",
    "\n",
    "    except Error as e:\n",
    "        print(f\"Error while connecting to MySQL or fetching data: {e}\")\n",
    "        return None"
   ]
  },
  {
   "cell_type": "markdown",
   "metadata": {
    "id": "FHSiqaZp8DC1"
   },
   "source": [
    "# Assessing Data"
   ]
  },
  {
   "cell_type": "code",
   "execution_count": 137,
   "metadata": {
    "id": "yZqG56z2FyX-",
    "tags": []
   },
   "outputs": [],
   "source": [
    "# usage example (the mysql detail already defined)\n",
    "# simple query\n",
    "master_query = \"\"\"\n",
    "\n",
    "SELECT\n",
    "   DATE(order_garden.created_at) AS date,\n",
    "   order_garden.id_order,\n",
    "   order_garden.id_user,\n",
    "   design.design_name,\n",
    "   order_garden.size_area,\n",
    "   CASE\n",
    "       WHEN order_garden.price = 0 THEN order_garden.total_promo\n",
    "       ELSE order_garden.price\n",
    "   END AS revenue,\n",
    "   desc_design.total_item_cost,\n",
    "   CASE\n",
    "       WHEN order_garden.size_area <= 10 THEN 2\n",
    "       WHEN order_garden.size_area BETWEEN 11 AND 20 THEN 3\n",
    "       WHEN order_garden.size_area BETWEEN 21 AND 30 THEN 4\n",
    "       WHEN order_garden.size_area BETWEEN 31 AND 40 THEN 5\n",
    "       WHEN order_garden.size_area BETWEEN 41 AND 50 THEN 5\n",
    "       ELSE 5\n",
    "   END AS jumlah_tenaga_kerja,\n",
    "   CASE\n",
    "       WHEN order_garden.size_area <= 10 THEN 2 * 250000\n",
    "       WHEN order_garden.size_area BETWEEN 11 AND 20 THEN 3 * 250000\n",
    "       WHEN order_garden.size_area BETWEEN 21 AND 30 THEN 4 * 250000\n",
    "       WHEN order_garden.size_area BETWEEN 31 AND 40 THEN 5 * 250000\n",
    "       WHEN order_garden.size_area BETWEEN 41 AND 50 THEN 5 * 250000\n",
    "       ELSE 5 * 250000\n",
    "   END AS total_biaya_tenaga_kerja,\n",
    "   (CASE\n",
    "       WHEN order_garden.size_area <= 10 THEN 2 * 250000\n",
    "       WHEN order_garden.size_area BETWEEN 11 AND 20 THEN 3 * 250000\n",
    "       WHEN order_garden.size_area BETWEEN 21 AND 30 THEN 4 * 250000\n",
    "       WHEN order_garden.size_area BETWEEN 31 AND 40 THEN 5 * 250000\n",
    "       WHEN order_garden.size_area BETWEEN 41 AND 50 THEN 5 * 250000\n",
    "       ELSE 5 * 250000\n",
    "   END + desc_design.total_item_cost) AS cogs,\n",
    "   ((CASE\n",
    "       WHEN order_garden.price = 0 THEN order_garden.total_promo\n",
    "       ELSE order_garden.price\n",
    "   END) -\n",
    "   (CASE\n",
    "       WHEN order_garden.size_area <= 10 THEN 2 * 250000\n",
    "       WHEN order_garden.size_area BETWEEN 11 AND 20 THEN 3 * 250000\n",
    "       WHEN order_garden.size_area BETWEEN 21 AND 30 THEN 4 * 250000\n",
    "       WHEN order_garden.size_area BETWEEN 31 AND 40 THEN 5 * 250000\n",
    "       WHEN order_garden.size_area BETWEEN 41 AND 50 THEN 5 * 250000\n",
    "       ELSE 5 * 250000\n",
    "   END + desc_design.total_item_cost)) AS gross_profit,\n",
    "   order_garden.status,\n",
    "   order_garden.id_gardener,\n",
    "   u.name,\n",
    "   address_components.administrative_area_level_1 AS province,\n",
    "   address_components.administrative_area_level_2 AS city,\n",
    "   address_components.administrative_area_level_3 AS district\n",
    "FROM\n",
    "   `order_garden`\n",
    "JOIN\n",
    "   `design` on design.id_design = order_garden.id_design_finish\n",
    "LEFT JOIN\n",
    "   (\n",
    "       SELECT\n",
    "           id_design,\n",
    "           SUM(item_total_cost) AS total_item_cost\n",
    "       FROM\n",
    "           desc_design\n",
    "       GROUP BY\n",
    "           id_design\n",
    "   ) desc_design ON design.id_design = desc_design.id_design\n",
    "LEFT JOIN\n",
    "   `user` u on order_garden.id_gardener = u.id_user\n",
    "LEFT JOIN\n",
    "   `address_components` on order_garden.province = address_components.id\n",
    "WHERE\n",
    "\torder_garden.status != \"expired\"\n",
    "\tAND\n",
    "\torder_garden.id_user >= 250;\n",
    "\n",
    "\"\"\""
   ]
  },
  {
   "cell_type": "code",
   "execution_count": 139,
   "metadata": {
    "id": "DU3p_WLrFyYA",
    "tags": []
   },
   "outputs": [],
   "source": [
    "# fetch data using function\n",
    "df = fetch_data(host, port, user, passwd, databs, master_query)"
   ]
  },
  {
   "cell_type": "code",
   "execution_count": 141,
   "metadata": {
    "colab": {
     "base_uri": "https://localhost:8080/",
     "height": 331
    },
    "id": "zz6KczrsFyYA",
    "outputId": "517e6eab-f14f-40f1-c1c0-5e122b4e2986",
    "tags": []
   },
   "outputs": [
    {
     "data": {
      "text/html": [
       "<div>\n",
       "<style scoped>\n",
       "    .dataframe tbody tr th:only-of-type {\n",
       "        vertical-align: middle;\n",
       "    }\n",
       "\n",
       "    .dataframe tbody tr th {\n",
       "        vertical-align: top;\n",
       "    }\n",
       "\n",
       "    .dataframe thead th {\n",
       "        text-align: right;\n",
       "    }\n",
       "</style>\n",
       "<table border=\"1\" class=\"dataframe\">\n",
       "  <thead>\n",
       "    <tr style=\"text-align: right;\">\n",
       "      <th></th>\n",
       "      <th>date</th>\n",
       "      <th>id_order</th>\n",
       "      <th>id_user</th>\n",
       "      <th>design_name</th>\n",
       "      <th>size_area</th>\n",
       "      <th>revenue</th>\n",
       "      <th>total_item_cost</th>\n",
       "      <th>jumlah_tenaga_kerja</th>\n",
       "      <th>total_biaya_tenaga_kerja</th>\n",
       "      <th>cogs</th>\n",
       "      <th>gross_profit</th>\n",
       "      <th>status</th>\n",
       "      <th>id_gardener</th>\n",
       "      <th>name</th>\n",
       "      <th>province</th>\n",
       "      <th>city</th>\n",
       "      <th>district</th>\n",
       "    </tr>\n",
       "  </thead>\n",
       "  <tbody>\n",
       "    <tr>\n",
       "      <th>0</th>\n",
       "      <td>2024-04-23</td>\n",
       "      <td>65</td>\n",
       "      <td>927</td>\n",
       "      <td>Taman Regina</td>\n",
       "      <td>11.0</td>\n",
       "      <td>9230382.0</td>\n",
       "      <td>4463700.0</td>\n",
       "      <td>3</td>\n",
       "      <td>750000</td>\n",
       "      <td>5213700.0</td>\n",
       "      <td>4016682.0</td>\n",
       "      <td>in_review</td>\n",
       "      <td>1087.0</td>\n",
       "      <td>ODIH</td>\n",
       "      <td>Daerah Khusus Ibukota Jakarta</td>\n",
       "      <td>Jakarta Selatan</td>\n",
       "      <td>Jagakarsa</td>\n",
       "    </tr>\n",
       "    <tr>\n",
       "      <th>1</th>\n",
       "      <td>2024-04-27</td>\n",
       "      <td>66</td>\n",
       "      <td>926</td>\n",
       "      <td>Taman Susy</td>\n",
       "      <td>28.0</td>\n",
       "      <td>6581190.0</td>\n",
       "      <td>2646250.0</td>\n",
       "      <td>4</td>\n",
       "      <td>1000000</td>\n",
       "      <td>3646250.0</td>\n",
       "      <td>2934940.0</td>\n",
       "      <td>in_review</td>\n",
       "      <td>1093.0</td>\n",
       "      <td>Budi Wahyudi</td>\n",
       "      <td>Jakarta</td>\n",
       "      <td>East Jakarta City</td>\n",
       "      <td>Durensawit</td>\n",
       "    </tr>\n",
       "    <tr>\n",
       "      <th>2</th>\n",
       "      <td>2024-05-16</td>\n",
       "      <td>70</td>\n",
       "      <td>925</td>\n",
       "      <td>Taman Lintang R</td>\n",
       "      <td>35.0</td>\n",
       "      <td>11550859.0</td>\n",
       "      <td>3931899.0</td>\n",
       "      <td>5</td>\n",
       "      <td>1250000</td>\n",
       "      <td>5181899.0</td>\n",
       "      <td>6368960.0</td>\n",
       "      <td>finish</td>\n",
       "      <td>1085.0</td>\n",
       "      <td>Ari aryana</td>\n",
       "      <td>Daerah Khusus Ibukota Jakarta</td>\n",
       "      <td>Jakarta Selatan</td>\n",
       "      <td>Jagakarsa</td>\n",
       "    </tr>\n",
       "    <tr>\n",
       "      <th>3</th>\n",
       "      <td>2024-05-24</td>\n",
       "      <td>72</td>\n",
       "      <td>1024</td>\n",
       "      <td>Taman Nopri</td>\n",
       "      <td>2.0</td>\n",
       "      <td>5440942.0</td>\n",
       "      <td>2987200.0</td>\n",
       "      <td>2</td>\n",
       "      <td>500000</td>\n",
       "      <td>3487200.0</td>\n",
       "      <td>1953742.0</td>\n",
       "      <td>finish</td>\n",
       "      <td>1087.0</td>\n",
       "      <td>ODIH</td>\n",
       "      <td>West Java</td>\n",
       "      <td>Bekasi Regency</td>\n",
       "      <td>Tambun Selatan</td>\n",
       "    </tr>\n",
       "    <tr>\n",
       "      <th>4</th>\n",
       "      <td>2024-06-12</td>\n",
       "      <td>74</td>\n",
       "      <td>1052</td>\n",
       "      <td>Taman Nur Atikah</td>\n",
       "      <td>5.0</td>\n",
       "      <td>4334875.0</td>\n",
       "      <td>2331500.0</td>\n",
       "      <td>2</td>\n",
       "      <td>500000</td>\n",
       "      <td>2831500.0</td>\n",
       "      <td>1503375.0</td>\n",
       "      <td>finish</td>\n",
       "      <td>1087.0</td>\n",
       "      <td>ODIH</td>\n",
       "      <td>Daerah Khusus Ibukota Jakarta</td>\n",
       "      <td>Jakarta Selatan</td>\n",
       "      <td>Jagakarsa</td>\n",
       "    </tr>\n",
       "  </tbody>\n",
       "</table>\n",
       "</div>"
      ],
      "text/plain": [
       "         date  id_order  id_user       design_name  size_area     revenue  \\\n",
       "0  2024-04-23        65      927      Taman Regina       11.0   9230382.0   \n",
       "1  2024-04-27        66      926        Taman Susy       28.0   6581190.0   \n",
       "2  2024-05-16        70      925   Taman Lintang R       35.0  11550859.0   \n",
       "3  2024-05-24        72     1024       Taman Nopri        2.0   5440942.0   \n",
       "4  2024-06-12        74     1052  Taman Nur Atikah        5.0   4334875.0   \n",
       "\n",
       "   total_item_cost  jumlah_tenaga_kerja  total_biaya_tenaga_kerja       cogs  \\\n",
       "0        4463700.0                    3                    750000  5213700.0   \n",
       "1        2646250.0                    4                   1000000  3646250.0   \n",
       "2        3931899.0                    5                   1250000  5181899.0   \n",
       "3        2987200.0                    2                    500000  3487200.0   \n",
       "4        2331500.0                    2                    500000  2831500.0   \n",
       "\n",
       "   gross_profit     status  id_gardener          name  \\\n",
       "0     4016682.0  in_review       1087.0          ODIH   \n",
       "1     2934940.0  in_review       1093.0  Budi Wahyudi   \n",
       "2     6368960.0     finish       1085.0    Ari aryana   \n",
       "3     1953742.0     finish       1087.0          ODIH   \n",
       "4     1503375.0     finish       1087.0          ODIH   \n",
       "\n",
       "                        province               city        district  \n",
       "0  Daerah Khusus Ibukota Jakarta    Jakarta Selatan       Jagakarsa  \n",
       "1                        Jakarta  East Jakarta City      Durensawit  \n",
       "2  Daerah Khusus Ibukota Jakarta    Jakarta Selatan       Jagakarsa  \n",
       "3                      West Java     Bekasi Regency  Tambun Selatan  \n",
       "4  Daerah Khusus Ibukota Jakarta    Jakarta Selatan       Jagakarsa  "
      ]
     },
     "execution_count": 141,
     "metadata": {},
     "output_type": "execute_result"
    }
   ],
   "source": [
    "# show data\n",
    "df.head()"
   ]
  },
  {
   "cell_type": "code",
   "execution_count": 143,
   "metadata": {
    "colab": {
     "base_uri": "https://localhost:8080/"
    },
    "id": "kgxv0RVwFyYB",
    "outputId": "7fc33f59-46ab-4f59-dbf8-a864c70088ca",
    "tags": []
   },
   "outputs": [
    {
     "name": "stdout",
     "output_type": "stream",
     "text": [
      "<class 'pandas.core.frame.DataFrame'>\n",
      "RangeIndex: 107 entries, 0 to 106\n",
      "Data columns (total 17 columns):\n",
      " #   Column                    Non-Null Count  Dtype  \n",
      "---  ------                    --------------  -----  \n",
      " 0   date                      107 non-null    object \n",
      " 1   id_order                  107 non-null    int64  \n",
      " 2   id_user                   107 non-null    int64  \n",
      " 3   design_name               107 non-null    object \n",
      " 4   size_area                 107 non-null    float64\n",
      " 5   revenue                   107 non-null    float64\n",
      " 6   total_item_cost           107 non-null    float64\n",
      " 7   jumlah_tenaga_kerja       107 non-null    int64  \n",
      " 8   total_biaya_tenaga_kerja  107 non-null    int64  \n",
      " 9   cogs                      107 non-null    float64\n",
      " 10  gross_profit              107 non-null    float64\n",
      " 11  status                    107 non-null    object \n",
      " 12  id_gardener               99 non-null     float64\n",
      " 13  name                      99 non-null     object \n",
      " 14  province                  107 non-null    object \n",
      " 15  city                      107 non-null    object \n",
      " 16  district                  107 non-null    object \n",
      "dtypes: float64(6), int64(4), object(7)\n",
      "memory usage: 14.3+ KB\n"
     ]
    }
   ],
   "source": [
    "# show info\n",
    "df.info()"
   ]
  },
  {
   "cell_type": "markdown",
   "metadata": {
    "id": "YDy6HUI0FyYC"
   },
   "source": [
    "## Missing Values"
   ]
  },
  {
   "cell_type": "code",
   "execution_count": 146,
   "metadata": {
    "colab": {
     "base_uri": "https://localhost:8080/",
     "height": 617
    },
    "id": "mQI9cWvuFyYC",
    "outputId": "c4142c83-5c98-4f34-fa74-a496f170ea75"
   },
   "outputs": [
    {
     "data": {
      "text/plain": [
       "date                        0\n",
       "id_order                    0\n",
       "id_user                     0\n",
       "design_name                 0\n",
       "size_area                   0\n",
       "revenue                     0\n",
       "total_item_cost             0\n",
       "jumlah_tenaga_kerja         0\n",
       "total_biaya_tenaga_kerja    0\n",
       "cogs                        0\n",
       "gross_profit                0\n",
       "status                      0\n",
       "id_gardener                 8\n",
       "name                        8\n",
       "province                    0\n",
       "city                        0\n",
       "district                    0\n",
       "dtype: int64"
      ]
     },
     "execution_count": 146,
     "metadata": {},
     "output_type": "execute_result"
    }
   ],
   "source": [
    "df.isna().sum()"
   ]
  },
  {
   "cell_type": "markdown",
   "metadata": {
    "id": "xA9tLTaZFyYD"
   },
   "source": [
    "## Duplicates"
   ]
  },
  {
   "cell_type": "code",
   "execution_count": 149,
   "metadata": {
    "colab": {
     "base_uri": "https://localhost:8080/"
    },
    "id": "oxGRnt73FyYD",
    "outputId": "8ad7dd2c-bf73-4ef2-bad2-039e96fa0771"
   },
   "outputs": [
    {
     "name": "stdout",
     "output_type": "stream",
     "text": [
      "Jumlah duplikasi:  0\n"
     ]
    }
   ],
   "source": [
    "print(\"Jumlah duplikasi: \", df.duplicated().sum())"
   ]
  },
  {
   "cell_type": "markdown",
   "metadata": {
    "id": "Tc8ZOmOnFyYF"
   },
   "source": [
    "## Outliers"
   ]
  },
  {
   "cell_type": "code",
   "execution_count": 152,
   "metadata": {
    "id": "nm3K6E3SFyYF"
   },
   "outputs": [],
   "source": [
    "df_num = df.select_dtypes(include =['int64', 'float64'])"
   ]
  },
  {
   "cell_type": "code",
   "execution_count": 154,
   "metadata": {
    "id": "kh-wc-KxFyYG"
   },
   "outputs": [],
   "source": [
    "# function to find outliers, using numpy\n",
    "def find_outlier(data):\n",
    "    # find quantile\n",
    "    Q1 = np.quantile(data, .25)\n",
    "    Q2 = np.quantile(data, .50) # median\n",
    "    Q3 = np.quantile(data, .75)\n",
    "\n",
    "    # find IQR\n",
    "    IQR = (Q3 - Q1) * 1.5\n",
    "    lower_limit = Q1 - IQR\n",
    "    upper_limit = Q3 + IQR\n",
    "\n",
    "    # find outlier\n",
    "    outlier = ''\n",
    "    for i in range(len(data)):\n",
    "        if data[i] > upper_limit:\n",
    "            outlier = outlier + str(data[i]) + ', '\n",
    "\n",
    "        elif data[i] < lower_limit:\n",
    "            outlier = outlier + str(data[i]) + ', '\n",
    "\n",
    "    return outlier"
   ]
  },
  {
   "cell_type": "code",
   "execution_count": 156,
   "metadata": {
    "colab": {
     "base_uri": "https://localhost:8080/"
    },
    "id": "SP-B7wRpFyYH",
    "outputId": "6290ae17-ed60-4790-dee3-a935a7909806"
   },
   "outputs": [
    {
     "name": "stdout",
     "output_type": "stream",
     "text": [
      "Outliers Detected id_order:  0\n",
      "Outliers Detected id_user:  0\n",
      "Outliers Detected size_area:  70\n",
      "Outliers Detected revenue:  132\n",
      "Outliers Detected total_item_cost:  142\n",
      "Outliers Detected jumlah_tenaga_kerja:  36\n",
      "Outliers Detected total_biaya_tenaga_kerja:  108\n",
      "Outliers Detected cogs:  120\n",
      "Outliers Detected gross_profit:  132\n",
      "Outliers Detected id_gardener:  0\n"
     ]
    }
   ],
   "source": [
    "# detect outliers from each columns using loop\n",
    "for i in df_num:\n",
    "    val = df_num[i].sort_values().values.tolist()\n",
    "    print(f\"Outliers Detected {i}: \", len(find_outlier(val)))"
   ]
  },
  {
   "cell_type": "code",
   "execution_count": 158,
   "metadata": {
    "colab": {
     "base_uri": "https://localhost:8080/",
     "height": 1000
    },
    "id": "wBHwuNL4FyYH",
    "outputId": "5dd190da-1b0e-46d0-bf85-8473672c96cb"
   },
   "outputs": [
    {
     "data": {
      "image/png": "[encoded data removed]",
      "text/plain": [
       "<Figure size 900x1200 with 10 Axes>"
      ]
     },
     "metadata": {},
     "output_type": "display_data"
    }
   ],
   "source": [
    "# Set the number of plots\n",
    "num_cols = 3  # Number of columns per row\n",
    "num_rows = (len(df_num.columns) + num_cols - 1) // num_cols  # Count the number of rows required\n",
    "plt.figure(figsize=(3 * num_cols, 3 * num_rows))  # Set image size\n",
    "\n",
    "for i, column in enumerate(df_num.columns):\n",
    "    plt.subplot(num_rows, num_cols, i + 1)  # Creating a subplot\n",
    "    sns.boxplot(data=df_num, x=column)\n",
    "    plt.title(f\"Boxplot of {column}\")\n",
    "\n",
    "plt.tight_layout()  # Arrange the layout so that it doesn't overlap\n",
    "plt.show()"
   ]
  },
  {
   "cell_type": "markdown",
   "metadata": {
    "id": "EhN5R4hr8DC1"
   },
   "source": [
    "# Cleaning & Data Transformation"
   ]
  },
  {
   "cell_type": "markdown",
   "metadata": {
    "id": "pOJHMjkRGme5"
   },
   "source": [
    "### Type casting"
   ]
  },
  {
   "cell_type": "code",
   "execution_count": 162,
   "metadata": {
    "id": "jVnYpprE9Evz"
   },
   "outputs": [],
   "source": [
    "df['date'] = pd.to_datetime(df['date'])"
   ]
  },
  {
   "cell_type": "code",
   "execution_count": 176,
   "metadata": {
    "id": "Msok5c_VklS2"
   },
   "outputs": [],
   "source": [
    "df['revenue'] = df['revenue'].astype('int64')"
   ]
  },
  {
   "cell_type": "code",
   "execution_count": 178,
   "metadata": {
    "id": "AkKw0ERSkuWE"
   },
   "outputs": [],
   "source": [
    "df['total_item_cost'] = df['total_item_cost'].astype('int64')"
   ]
  },
  {
   "cell_type": "code",
   "execution_count": 186,
   "metadata": {
    "id": "aq-tKBYPlBbc"
   },
   "outputs": [],
   "source": [
    "df['cogs'] = df['cogs'].astype('int64')"
   ]
  },
  {
   "cell_type": "code",
   "execution_count": 188,
   "metadata": {},
   "outputs": [],
   "source": [
    "df['gross_profit'] = df['gross_profit'].astype('int64')"
   ]
  },
  {
   "cell_type": "code",
   "execution_count": 190,
   "metadata": {
    "colab": {
     "base_uri": "https://localhost:8080/"
    },
    "id": "vXXca1_jJ0PH",
    "outputId": "e5d622ab-1133-455d-c732-815507f5a2d9"
   },
   "outputs": [
    {
     "name": "stdout",
     "output_type": "stream",
     "text": [
      "<class 'pandas.core.frame.DataFrame'>\n",
      "RangeIndex: 107 entries, 0 to 106\n",
      "Data columns (total 17 columns):\n",
      " #   Column                    Non-Null Count  Dtype         \n",
      "---  ------                    --------------  -----         \n",
      " 0   date                      107 non-null    datetime64[ns]\n",
      " 1   id_order                  107 non-null    int64         \n",
      " 2   id_user                   107 non-null    int64         \n",
      " 3   design_name               107 non-null    object        \n",
      " 4   size_area                 107 non-null    float64       \n",
      " 5   revenue                   107 non-null    int64         \n",
      " 6   total_item_cost           107 non-null    int64         \n",
      " 7   jumlah_tenaga_kerja       107 non-null    int64         \n",
      " 8   total_biaya_tenaga_kerja  107 non-null    int64         \n",
      " 9   cogs                      107 non-null    int64         \n",
      " 10  gross_profit              107 non-null    int64         \n",
      " 11  status                    107 non-null    object        \n",
      " 12  id_gardener               99 non-null     float64       \n",
      " 13  name                      99 non-null     object        \n",
      " 14  province                  107 non-null    object        \n",
      " 15  city                      107 non-null    object        \n",
      " 16  district                  107 non-null    object        \n",
      "dtypes: datetime64[ns](1), float64(2), int64(8), object(6)\n",
      "memory usage: 14.3+ KB\n"
     ]
    }
   ],
   "source": [
    "df.info()"
   ]
  },
  {
   "cell_type": "markdown",
   "metadata": {
    "id": "aO-1bjfCKzax"
   },
   "source": [
    "### Handling Missing Values"
   ]
  },
  {
   "cell_type": "code",
   "execution_count": 193,
   "metadata": {
    "id": "8Vxco3WLLKgl"
   },
   "outputs": [],
   "source": [
    "df['id_gardener'] = df['id_gardener'].fillna(0)\n",
    "df['id_gardener'] = df['id_gardener'].astype('int64')"
   ]
  },
  {
   "cell_type": "code",
   "execution_count": 195,
   "metadata": {
    "id": "6ZXZZK2QLqvw"
   },
   "outputs": [],
   "source": [
    "df['name'] = df['name'].fillna('none')"
   ]
  },
  {
   "cell_type": "code",
   "execution_count": 197,
   "metadata": {
    "colab": {
     "base_uri": "https://localhost:8080/",
     "height": 617
    },
    "id": "uLRvSXK6MeyK",
    "outputId": "2ffd426e-3604-4d76-a8a5-4fcac9a8155c"
   },
   "outputs": [
    {
     "data": {
      "text/plain": [
       "date                        0\n",
       "id_order                    0\n",
       "id_user                     0\n",
       "design_name                 0\n",
       "size_area                   0\n",
       "revenue                     0\n",
       "total_item_cost             0\n",
       "jumlah_tenaga_kerja         0\n",
       "total_biaya_tenaga_kerja    0\n",
       "cogs                        0\n",
       "gross_profit                0\n",
       "status                      0\n",
       "id_gardener                 0\n",
       "name                        0\n",
       "province                    0\n",
       "city                        0\n",
       "district                    0\n",
       "dtype: int64"
      ]
     },
     "execution_count": 197,
     "metadata": {},
     "output_type": "execute_result"
    }
   ],
   "source": [
    "df.isna().sum()"
   ]
  },
  {
   "cell_type": "markdown",
   "metadata": {
    "id": "lLoQ5whMHCQw"
   },
   "source": [
    "### Transformation"
   ]
  },
  {
   "cell_type": "code",
   "execution_count": 206,
   "metadata": {
    "id": "lQrAyvFeIew5"
   },
   "outputs": [],
   "source": [
    "province_transform = {\n",
    "    'Daerah Khusus Ibukota Jakarta': 'DKI Jakarta',\n",
    "    'West Java': 'Jawa Barat'\n",
    "    }\n",
    "\n",
    "city_transform = {\n",
    "    'East Jakarta City': 'Jakarta Timur',\n",
    "    'Bekasi Regency': 'Bekasi',\n",
    "    'South Tangerang City': 'Tanggerang Selatan',\n",
    "}"
   ]
  },
  {
   "cell_type": "code",
   "execution_count": 210,
   "metadata": {
    "id": "eaY2a9fzG87S"
   },
   "outputs": [],
   "source": [
    "df['province_name'] = df['province'].replace(province_transform)\n",
    "df['city'] = df['city'].replace(city_transform)"
   ]
  },
  {
   "cell_type": "markdown",
   "metadata": {
    "id": "gp-Y6wU38DC1"
   },
   "source": [
    "# Exploratory Data Analysis (EDA)"
   ]
  },
  {
   "cell_type": "markdown",
   "metadata": {
    "id": "MJkaWpXoQCXg"
   },
   "source": [
    "## Descriptive Analysis"
   ]
  },
  {
   "cell_type": "code",
   "execution_count": 214,
   "metadata": {
    "colab": {
     "base_uri": "https://localhost:8080/",
     "height": 300
    },
    "id": "Fbw40HqYFyYJ",
    "outputId": "751d9581-9f4b-481d-8cb3-62c44747e7bf"
   },
   "outputs": [
    {
     "data": {
      "text/html": [
       "<div>\n",
       "<style scoped>\n",
       "    .dataframe tbody tr th:only-of-type {\n",
       "        vertical-align: middle;\n",
       "    }\n",
       "\n",
       "    .dataframe tbody tr th {\n",
       "        vertical-align: top;\n",
       "    }\n",
       "\n",
       "    .dataframe thead th {\n",
       "        text-align: right;\n",
       "    }\n",
       "</style>\n",
       "<table border=\"1\" class=\"dataframe\">\n",
       "  <thead>\n",
       "    <tr style=\"text-align: right;\">\n",
       "      <th></th>\n",
       "      <th>date</th>\n",
       "      <th>id_order</th>\n",
       "      <th>id_user</th>\n",
       "      <th>size_area</th>\n",
       "      <th>revenue</th>\n",
       "      <th>total_item_cost</th>\n",
       "      <th>jumlah_tenaga_kerja</th>\n",
       "      <th>total_biaya_tenaga_kerja</th>\n",
       "      <th>cogs</th>\n",
       "      <th>gross_profit</th>\n",
       "      <th>id_gardener</th>\n",
       "    </tr>\n",
       "  </thead>\n",
       "  <tbody>\n",
       "    <tr>\n",
       "      <th>count</th>\n",
       "      <td>107</td>\n",
       "      <td>107.000000</td>\n",
       "      <td>107.000000</td>\n",
       "      <td>107.000000</td>\n",
       "      <td>1.070000e+02</td>\n",
       "      <td>1.070000e+02</td>\n",
       "      <td>107.000000</td>\n",
       "      <td>1.070000e+02</td>\n",
       "      <td>1.070000e+02</td>\n",
       "      <td>1.070000e+02</td>\n",
       "      <td>107.000000</td>\n",
       "    </tr>\n",
       "    <tr>\n",
       "      <th>mean</th>\n",
       "      <td>2024-08-30 04:15:42.056074752</td>\n",
       "      <td>144.121495</td>\n",
       "      <td>1390.336449</td>\n",
       "      <td>15.333411</td>\n",
       "      <td>1.076089e+07</td>\n",
       "      <td>4.929688e+06</td>\n",
       "      <td>2.822430</td>\n",
       "      <td>7.056075e+05</td>\n",
       "      <td>5.635295e+06</td>\n",
       "      <td>5.125591e+06</td>\n",
       "      <td>1015.495327</td>\n",
       "    </tr>\n",
       "    <tr>\n",
       "      <th>min</th>\n",
       "      <td>2024-04-23 00:00:00</td>\n",
       "      <td>65.000000</td>\n",
       "      <td>670.000000</td>\n",
       "      <td>1.000000</td>\n",
       "      <td>1.625150e+06</td>\n",
       "      <td>3.570000e+05</td>\n",
       "      <td>2.000000</td>\n",
       "      <td>5.000000e+05</td>\n",
       "      <td>1.087700e+06</td>\n",
       "      <td>1.815000e+04</td>\n",
       "      <td>0.000000</td>\n",
       "    </tr>\n",
       "    <tr>\n",
       "      <th>25%</th>\n",
       "      <td>2024-07-21 00:00:00</td>\n",
       "      <td>109.000000</td>\n",
       "      <td>1110.500000</td>\n",
       "      <td>6.000000</td>\n",
       "      <td>4.565635e+06</td>\n",
       "      <td>2.105500e+06</td>\n",
       "      <td>2.000000</td>\n",
       "      <td>5.000000e+05</td>\n",
       "      <td>2.641090e+06</td>\n",
       "      <td>1.779449e+06</td>\n",
       "      <td>1085.000000</td>\n",
       "    </tr>\n",
       "    <tr>\n",
       "      <th>50%</th>\n",
       "      <td>2024-08-28 00:00:00</td>\n",
       "      <td>148.000000</td>\n",
       "      <td>1377.000000</td>\n",
       "      <td>10.000000</td>\n",
       "      <td>7.708500e+06</td>\n",
       "      <td>3.350450e+06</td>\n",
       "      <td>2.000000</td>\n",
       "      <td>5.000000e+05</td>\n",
       "      <td>3.990675e+06</td>\n",
       "      <td>3.676021e+06</td>\n",
       "      <td>1087.000000</td>\n",
       "    </tr>\n",
       "    <tr>\n",
       "      <th>75%</th>\n",
       "      <td>2024-10-13 00:00:00</td>\n",
       "      <td>182.500000</td>\n",
       "      <td>1608.500000</td>\n",
       "      <td>17.500000</td>\n",
       "      <td>1.177293e+07</td>\n",
       "      <td>4.861500e+06</td>\n",
       "      <td>3.000000</td>\n",
       "      <td>7.500000e+05</td>\n",
       "      <td>5.936650e+06</td>\n",
       "      <td>5.977554e+06</td>\n",
       "      <td>1092.500000</td>\n",
       "    </tr>\n",
       "    <tr>\n",
       "      <th>max</th>\n",
       "      <td>2024-11-14 00:00:00</td>\n",
       "      <td>211.000000</td>\n",
       "      <td>1878.000000</td>\n",
       "      <td>145.725000</td>\n",
       "      <td>9.741224e+07</td>\n",
       "      <td>5.539690e+07</td>\n",
       "      <td>5.000000</td>\n",
       "      <td>1.250000e+06</td>\n",
       "      <td>5.589690e+07</td>\n",
       "      <td>4.151534e+07</td>\n",
       "      <td>1361.000000</td>\n",
       "    </tr>\n",
       "    <tr>\n",
       "      <th>std</th>\n",
       "      <td>NaN</td>\n",
       "      <td>42.851589</td>\n",
       "      <td>287.261368</td>\n",
       "      <td>18.610515</td>\n",
       "      <td>1.190295e+07</td>\n",
       "      <td>6.187656e+06</td>\n",
       "      <td>1.026195</td>\n",
       "      <td>2.565489e+05</td>\n",
       "      <td>6.257959e+06</td>\n",
       "      <td>5.966180e+06</td>\n",
       "      <td>293.538059</td>\n",
       "    </tr>\n",
       "  </tbody>\n",
       "</table>\n",
       "</div>"
      ],
      "text/plain": [
       "                                date    id_order      id_user   size_area  \\\n",
       "count                            107  107.000000   107.000000  107.000000   \n",
       "mean   2024-08-30 04:15:42.056074752  144.121495  1390.336449   15.333411   \n",
       "min              2024-04-23 00:00:00   65.000000   670.000000    1.000000   \n",
       "25%              2024-07-21 00:00:00  109.000000  1110.500000    6.000000   \n",
       "50%              2024-08-28 00:00:00  148.000000  1377.000000   10.000000   \n",
       "75%              2024-10-13 00:00:00  182.500000  1608.500000   17.500000   \n",
       "max              2024-11-14 00:00:00  211.000000  1878.000000  145.725000   \n",
       "std                              NaN   42.851589   287.261368   18.610515   \n",
       "\n",
       "            revenue  total_item_cost  jumlah_tenaga_kerja  \\\n",
       "count  1.070000e+02     1.070000e+02           107.000000   \n",
       "mean   1.076089e+07     4.929688e+06             2.822430   \n",
       "min    1.625150e+06     3.570000e+05             2.000000   \n",
       "25%    4.565635e+06     2.105500e+06             2.000000   \n",
       "50%    7.708500e+06     3.350450e+06             2.000000   \n",
       "75%    1.177293e+07     4.861500e+06             3.000000   \n",
       "max    9.741224e+07     5.539690e+07             5.000000   \n",
       "std    1.190295e+07     6.187656e+06             1.026195   \n",
       "\n",
       "       total_biaya_tenaga_kerja          cogs  gross_profit  id_gardener  \n",
       "count              1.070000e+02  1.070000e+02  1.070000e+02   107.000000  \n",
       "mean               7.056075e+05  5.635295e+06  5.125591e+06  1015.495327  \n",
       "min                5.000000e+05  1.087700e+06  1.815000e+04     0.000000  \n",
       "25%                5.000000e+05  2.641090e+06  1.779449e+06  1085.000000  \n",
       "50%                5.000000e+05  3.990675e+06  3.676021e+06  1087.000000  \n",
       "75%                7.500000e+05  5.936650e+06  5.977554e+06  1092.500000  \n",
       "max                1.250000e+06  5.589690e+07  4.151534e+07  1361.000000  \n",
       "std                2.565489e+05  6.257959e+06  5.966180e+06   293.538059  "
      ]
     },
     "execution_count": 214,
     "metadata": {},
     "output_type": "execute_result"
    }
   ],
   "source": [
    "df.describe()"
   ]
  },
  {
   "cell_type": "code",
   "execution_count": 220,
   "metadata": {
    "colab": {
     "base_uri": "https://localhost:8080/",
     "height": 398
    },
    "id": "aF7qguPKPjk2",
    "outputId": "5f0083c7-e925-48c9-f185-8fff2c5429ce"
   },
   "outputs": [
    {
     "data": {
      "text/plain": [
       "size_area                   1.533341e+01\n",
       "revenue                     1.076089e+07\n",
       "total_item_cost             4.929688e+06\n",
       "jumlah_tenaga_kerja         2.822430e+00\n",
       "total_biaya_tenaga_kerja    7.056075e+05\n",
       "cogs                        5.635295e+06\n",
       "gross_profit                5.125591e+06\n",
       "dtype: float64"
      ]
     },
     "execution_count": 220,
     "metadata": {},
     "output_type": "execute_result"
    }
   ],
   "source": [
    "mean_values = df.select_dtypes(['number']).drop(['id_order', 'id_user', 'id_gardener'], axis=1).mean()\n",
    "mean_values"
   ]
  },
  {
   "cell_type": "code",
   "execution_count": 222,
   "metadata": {
    "colab": {
     "base_uri": "https://localhost:8080/",
     "height": 398
    },
    "id": "X23QqPHyPpJ4",
    "outputId": "43fb7596-c6b5-447e-9426-d0a1fcfe6c50"
   },
   "outputs": [
    {
     "data": {
      "text/plain": [
       "size_area                        10.0\n",
       "revenue                     7708500.0\n",
       "total_item_cost             3350450.0\n",
       "jumlah_tenaga_kerja               2.0\n",
       "total_biaya_tenaga_kerja     500000.0\n",
       "cogs                        3990675.0\n",
       "gross_profit                3676021.0\n",
       "dtype: float64"
      ]
     },
     "execution_count": 222,
     "metadata": {},
     "output_type": "execute_result"
    }
   ],
   "source": [
    "median_values = df.select_dtypes(['number']).drop(['id_order', 'id_user', 'id_gardener'], axis=1).median()\n",
    "median_values"
   ]
  },
  {
   "cell_type": "code",
   "execution_count": 224,
   "metadata": {
    "colab": {
     "base_uri": "https://localhost:8080/",
     "height": 424
    },
    "id": "AeLiU0xZPtcQ",
    "outputId": "18a9c38e-1c2b-4e46-86d7-bc9548fe7e91"
   },
   "outputs": [
    {
     "data": {
      "text/html": [
       "<div>\n",
       "<style scoped>\n",
       "    .dataframe tbody tr th:only-of-type {\n",
       "        vertical-align: middle;\n",
       "    }\n",
       "\n",
       "    .dataframe tbody tr th {\n",
       "        vertical-align: top;\n",
       "    }\n",
       "\n",
       "    .dataframe thead th {\n",
       "        text-align: right;\n",
       "    }\n",
       "</style>\n",
       "<table border=\"1\" class=\"dataframe\">\n",
       "  <thead>\n",
       "    <tr style=\"text-align: right;\">\n",
       "      <th></th>\n",
       "      <th>size_area</th>\n",
       "      <th>revenue</th>\n",
       "      <th>total_item_cost</th>\n",
       "      <th>jumlah_tenaga_kerja</th>\n",
       "      <th>total_biaya_tenaga_kerja</th>\n",
       "      <th>cogs</th>\n",
       "      <th>gross_profit</th>\n",
       "    </tr>\n",
       "  </thead>\n",
       "  <tbody>\n",
       "    <tr>\n",
       "      <th>0</th>\n",
       "      <td>11.0</td>\n",
       "      <td>8912900</td>\n",
       "      <td>4218600</td>\n",
       "      <td>2</td>\n",
       "      <td>500000</td>\n",
       "      <td>4968600</td>\n",
       "      <td>3944300</td>\n",
       "    </tr>\n",
       "  </tbody>\n",
       "</table>\n",
       "</div>"
      ],
      "text/plain": [
       "   size_area  revenue  total_item_cost  jumlah_tenaga_kerja  \\\n",
       "0       11.0  8912900          4218600                    2   \n",
       "\n",
       "   total_biaya_tenaga_kerja     cogs  gross_profit  \n",
       "0                    500000  4968600       3944300  "
      ]
     },
     "execution_count": 224,
     "metadata": {},
     "output_type": "execute_result"
    }
   ],
   "source": [
    "mode_values = df.select_dtypes(['number']).drop(['id_order', 'id_user', 'id_gardener'], axis=1).mode()\n",
    "mode_values"
   ]
  },
  {
   "cell_type": "markdown",
   "metadata": {
    "id": "Do1liQ6tQFHQ"
   },
   "source": [
    "### Range"
   ]
  },
  {
   "cell_type": "code",
   "execution_count": 230,
   "metadata": {},
   "outputs": [],
   "source": [
    "dropped = ['id_order', 'id_user', 'id_gardener']"
   ]
  },
  {
   "cell_type": "code",
   "execution_count": 232,
   "metadata": {
    "colab": {
     "base_uri": "https://localhost:8080/",
     "height": 398
    },
    "id": "1s0XYb73QTiQ",
    "outputId": "6bf48133-76bd-4f83-9d73-20cf501fd993"
   },
   "outputs": [
    {
     "data": {
      "text/plain": [
       "size_area                   1.447250e+02\n",
       "revenue                     9.578709e+07\n",
       "total_item_cost             5.503990e+07\n",
       "jumlah_tenaga_kerja         3.000000e+00\n",
       "total_biaya_tenaga_kerja    7.500000e+05\n",
       "cogs                        5.480920e+07\n",
       "gross_profit                4.149719e+07\n",
       "dtype: float64"
      ]
     },
     "execution_count": 232,
     "metadata": {},
     "output_type": "execute_result"
    }
   ],
   "source": [
    "df.select_dtypes(['number']).drop(dropped, axis=1).max() - df.select_dtypes(['number']).drop(dropped, axis=1).min()"
   ]
  },
  {
   "cell_type": "code",
   "execution_count": 236,
   "metadata": {
    "colab": {
     "base_uri": "https://localhost:8080/"
    },
    "id": "UtqfoPzMQdSZ",
    "outputId": "c0ed0630-23b4-4429-ebef-2735cba87e06"
   },
   "outputs": [
    {
     "name": "stdout",
     "output_type": "stream",
     "text": [
      "145.725 1.0\n",
      "Range of size_area : 144.725\n"
     ]
    }
   ],
   "source": [
    "print(df['size_area'].max(), df['size_area'].min())\n",
    "print(\"Range of size_area :\", df['size_area'].max() - df['size_area'].min())"
   ]
  },
  {
   "cell_type": "code",
   "execution_count": 240,
   "metadata": {
    "colab": {
     "base_uri": "https://localhost:8080/"
    },
    "id": "WjQqEHzHQsRV",
    "outputId": "4753fb6a-8a87-40e4-b174-fd4478856f8c"
   },
   "outputs": [
    {
     "name": "stdout",
     "output_type": "stream",
     "text": [
      "97412240 1625150\n",
      "Range of price : 95787090\n"
     ]
    }
   ],
   "source": [
    "print(df['revenue'].max(), df['revenue'].min())\n",
    "print(\"Range of price :\", df['revenue'].max() - df['revenue'].min())"
   ]
  },
  {
   "cell_type": "code",
   "execution_count": 242,
   "metadata": {
    "colab": {
     "base_uri": "https://localhost:8080/"
    },
    "id": "M1ZOET4UQwea",
    "outputId": "629ba3fd-d4c8-48b1-b67b-edaea998e775"
   },
   "outputs": [
    {
     "name": "stdout",
     "output_type": "stream",
     "text": [
      "55396899 357000\n",
      "Range of total_item_cost : 55039899\n"
     ]
    }
   ],
   "source": [
    "print(df['total_item_cost'].max(), df['total_item_cost'].min())\n",
    "print(\"Range of total_item_cost :\", df['total_item_cost'].max() - df['total_item_cost'].min())"
   ]
  },
  {
   "cell_type": "code",
   "execution_count": 244,
   "metadata": {
    "colab": {
     "base_uri": "https://localhost:8080/"
    },
    "id": "SYtvLw-kQ5Zy",
    "outputId": "b94da29e-57ae-4309-b750-3c6b577b291a"
   },
   "outputs": [
    {
     "name": "stdout",
     "output_type": "stream",
     "text": [
      "5 2\n",
      "Range of jumlah_tenaga_kerja : 3\n"
     ]
    }
   ],
   "source": [
    "print(df['jumlah_tenaga_kerja'].max(), df['jumlah_tenaga_kerja'].min())\n",
    "print(\"Range of jumlah_tenaga_kerja :\", df['jumlah_tenaga_kerja'].max() - df['jumlah_tenaga_kerja'].min())"
   ]
  },
  {
   "cell_type": "code",
   "execution_count": 246,
   "metadata": {
    "colab": {
     "base_uri": "https://localhost:8080/"
    },
    "id": "yucIJWugQ_9Q",
    "outputId": "e85f1ef3-6e52-4980-b58e-68faada3ec0f"
   },
   "outputs": [
    {
     "name": "stdout",
     "output_type": "stream",
     "text": [
      "1250000 500000\n",
      "Range of total_biaya_tenaga_kerja : 750000\n"
     ]
    }
   ],
   "source": [
    "print(df['total_biaya_tenaga_kerja'].max(), df['total_biaya_tenaga_kerja'].min())\n",
    "print(\"Range of total_biaya_tenaga_kerja :\", df['total_biaya_tenaga_kerja'].max() - df['total_biaya_tenaga_kerja'].min())"
   ]
  },
  {
   "cell_type": "code",
   "execution_count": 248,
   "metadata": {
    "colab": {
     "base_uri": "https://localhost:8080/"
    },
    "id": "1plj7mNCSL7q",
    "outputId": "93a2c6a1-f1bd-468f-8ad7-55e80cc099cb"
   },
   "outputs": [
    {
     "name": "stdout",
     "output_type": "stream",
     "text": [
      "55896899 1087700\n",
      "Range of cogs : 54809199\n"
     ]
    }
   ],
   "source": [
    "print(df['cogs'].max(), df['cogs'].min())\n",
    "print(\"Range of cogs :\", df['cogs'].max() - df['cogs'].min())"
   ]
  },
  {
   "cell_type": "code",
   "execution_count": 250,
   "metadata": {
    "colab": {
     "base_uri": "https://localhost:8080/"
    },
    "id": "Ps2nJMd0SOyf",
    "outputId": "9c6dc11e-902b-483d-d52c-6d326e472387"
   },
   "outputs": [
    {
     "name": "stdout",
     "output_type": "stream",
     "text": [
      "41515341 18150\n",
      "Range of gross_profit : 41497191\n"
     ]
    }
   ],
   "source": [
    "print(df['gross_profit'].max(), df['gross_profit'].min())\n",
    "print(\"Range of gross_profit :\", df['gross_profit'].max() - df['gross_profit'].min())"
   ]
  },
  {
   "cell_type": "markdown",
   "metadata": {
    "id": "0h-qaLClSWIx"
   },
   "source": [
    "### Standard Deviation"
   ]
  },
  {
   "cell_type": "code",
   "execution_count": 253,
   "metadata": {},
   "outputs": [],
   "source": [
    "dropped = ['id_order', 'id_user', 'id_gardener']"
   ]
  },
  {
   "cell_type": "code",
   "execution_count": 255,
   "metadata": {
    "colab": {
     "base_uri": "https://localhost:8080/",
     "height": 398
    },
    "id": "SGpsUqWsSX4B",
    "outputId": "b2781f99-03d9-4756-d333-fe44d285c87c"
   },
   "outputs": [
    {
     "data": {
      "text/plain": [
       "size_area                   1.861051e+01\n",
       "revenue                     1.190295e+07\n",
       "total_item_cost             6.187656e+06\n",
       "jumlah_tenaga_kerja         1.026195e+00\n",
       "total_biaya_tenaga_kerja    2.565489e+05\n",
       "cogs                        6.257959e+06\n",
       "gross_profit                5.966180e+06\n",
       "dtype: float64"
      ]
     },
     "execution_count": 255,
     "metadata": {},
     "output_type": "execute_result"
    }
   ],
   "source": [
    "df.select_dtypes(['number']).drop(['id_order', 'id_user', 'id_gardener'], axis=1).std()"
   ]
  },
  {
   "cell_type": "markdown",
   "metadata": {
    "id": "66wWJpXPSfRZ"
   },
   "source": [
    "### Variance"
   ]
  },
  {
   "cell_type": "code",
   "execution_count": 257,
   "metadata": {},
   "outputs": [],
   "source": [
    "dropped = ['id_order', 'id_user', 'id_gardener']"
   ]
  },
  {
   "cell_type": "code",
   "execution_count": 259,
   "metadata": {
    "colab": {
     "base_uri": "https://localhost:8080/",
     "height": 398
    },
    "id": "O_2Wia1KSg2B",
    "outputId": "744cc343-09e3-4c96-b0fb-58483f3c758e"
   },
   "outputs": [
    {
     "data": {
      "text/plain": [
       "size_area                   3.463513e+02\n",
       "revenue                     1.416803e+14\n",
       "total_item_cost             3.828709e+13\n",
       "jumlah_tenaga_kerja         1.053077e+00\n",
       "total_biaya_tenaga_kerja    6.581732e+10\n",
       "cogs                        3.916205e+13\n",
       "gross_profit                3.559531e+13\n",
       "dtype: float64"
      ]
     },
     "execution_count": 259,
     "metadata": {},
     "output_type": "execute_result"
    }
   ],
   "source": [
    "df.select_dtypes(['number']).drop(['id_order', 'id_user', 'id_gardener'], axis=1).var()"
   ]
  },
  {
   "cell_type": "markdown",
   "metadata": {
    "id": "K3nL9ZALS6FK"
   },
   "source": [
    "### Distribution"
   ]
  },
  {
   "cell_type": "code",
   "execution_count": 264,
   "metadata": {
    "colab": {
     "base_uri": "https://localhost:8080/",
     "height": 1000
    },
    "id": "jaFRarH9S9A6",
    "outputId": "24dc92c2-a918-48da-e315-757abc527e9a"
   },
   "outputs": [
    {
     "data": {
      "image/png": "[encoded data removed]",
      "text/plain": [
       "<Figure size 1300x1000 with 7 Axes>"
      ]
     },
     "metadata": {},
     "output_type": "display_data"
    }
   ],
   "source": [
    "plt.figure(figsize=(13, 10))\n",
    "\n",
    "plt.subplot(3, 3, 1)\n",
    "sns.histplot(df['size_area'], bins=20, kde=True)\n",
    "plt.title('Distribution of size_area')\n",
    "\n",
    "plt.subplot(3, 3, 2)\n",
    "sns.histplot(df['revenue'], bins=20, kde=True)\n",
    "plt.title('Distribution of revenue')\n",
    "\n",
    "plt.subplot(3, 3, 3)\n",
    "sns.histplot(df['total_item_cost'], bins=20, kde=True)\n",
    "plt.title('Distribution of total_item_cost')\n",
    "\n",
    "plt.subplot(3, 3, 4)\n",
    "sns.histplot(df['jumlah_tenaga_kerja'], bins=20, kde=True)\n",
    "plt.title('Distribution of jumlah_tenaga_kerja')\n",
    "\n",
    "plt.subplot(3, 3, 5)\n",
    "sns.histplot(df['total_biaya_tenaga_kerja'], bins=20, kde=True)\n",
    "plt.title('Distribution of total_biaya_tenaga_kerja')\n",
    "\n",
    "plt.subplot(3, 3, 6)\n",
    "sns.histplot(df['cogs'], bins=20, kde=True)\n",
    "plt.title('Distribution of cogs')\n",
    "\n",
    "plt.subplot(3, 3, 7)\n",
    "sns.histplot(df['gross_profit'], bins=20, kde=True)\n",
    "plt.title('Distribution of gross_profit')\n",
    "\n",
    "plt.tight_layout()\n",
    "plt.show()"
   ]
  },
  {
   "cell_type": "code",
   "execution_count": 268,
   "metadata": {
    "colab": {
     "base_uri": "https://localhost:8080/",
     "height": 688
    },
    "id": "kNFdsriAUWKC",
    "outputId": "d1c0709d-d423-494a-9300-8b6ff37e52bc"
   },
   "outputs": [
    {
     "data": {
      "image/png": "[encoded data removed]",
      "text/plain": [
       "<Figure size 800x600 with 2 Axes>"
      ]
     },
     "metadata": {},
     "output_type": "display_data"
    }
   ],
   "source": [
    "plt.figure(figsize=(8,6))\n",
    "sns.heatmap(df[[\"size_area\", \"revenue\", \"total_item_cost\", \"jumlah_tenaga_kerja\", \"total_biaya_tenaga_kerja\", \"cogs\", \"gross_profit\"]].corr(), annot= True)\n",
    "plt.show()"
   ]
  },
  {
   "cell_type": "markdown",
   "metadata": {
    "id": "_WeHlCeX8DC2"
   },
   "source": [
    "# Insight"
   ]
  },
  {
   "cell_type": "markdown",
   "metadata": {
    "id": "ZTcyR48Y8DC2"
   },
   "source": [
    "- insight 1\n",
    "- insight 2\n",
    "- ...."
   ]
  },
  {
   "cell_type": "markdown",
   "metadata": {
    "id": "fLMO9wl5WZj6"
   },
   "source": [
    "# Conclusion"
   ]
  },
  {
   "cell_type": "markdown",
   "metadata": {
    "id": "XSrjIFViW34J"
   },
   "source": [
    "- Conclution insight 1\n",
    "- Conclution insight 2\n",
    "- ...."
   ]
  }
 ],
 "metadata": {
  "colab": {
   "provenance": []
  },
  "firstTimeUsingHintbot": true,
  "kernelspec": {
   "display_name": "Python 3 (ipykernel)",
   "language": "python",
   "name": "python3"
  },
  "language_info": {
   "codemirror_mode": {
    "name": "ipython",
    "version": 3
   },
   "file_extension": ".py",
   "mimetype": "text/x-python",
   "name": "python",
   "nbconvert_exporter": "python",
   "pygments_lexer": "ipython3",
   "version": "3.12.7"
  },
  "vscode": {
   "interpreter": {
    "hash": "972b3bf27e332e87b5379f2791f6ef9dfc79c71018c370b0d7423235e20fe4d7"
   }
  }
 },
 "nbformat": 4,
 "nbformat_minor": 4
}
