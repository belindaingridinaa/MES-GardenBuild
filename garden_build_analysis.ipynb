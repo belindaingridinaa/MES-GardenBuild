{
  "cells": [
    {
      "cell_type": "markdown",
      "metadata": {
        "id": "H-z4QGlO8DC1"
      },
      "source": [
        "# Import Library & Port Forward"
      ]
    },
    {
      "cell_type": "markdown",
      "metadata": {
        "id": "V02sF0_6FyX0"
      },
      "source": [
        "## Fetching Data from MySQL into a Pandas DataFrame\n",
        "\n",
        "### Setup\n",
        "\n",
        "Beberapa paket yang harus diinstall sebelum menjalankan program.\n",
        "Anda bisa menginstall paket dibawah ini pada anaconda prompt atau jupyter notebook\n",
        "\n",
        "paket `mysql-connector-python` untuk menyambung ke basis data MySQL dan paket `pandas` untuk bekerja dengan DataFrames\n",
        "```bash\n",
        "pip install mysql-connector-python\n",
        "```"
      ]
    },
    {
      "cell_type": "code",
      "execution_count": null,
      "metadata": {
        "colab": {
          "base_uri": "https://localhost:8080/"
        },
        "id": "WDvNIDvMFyX2",
        "outputId": "30425454-8f3f-4c75-b7d0-ff3185d01474"
      },
      "outputs": [
        {
          "output_type": "stream",
          "name": "stdout",
          "text": [
            "Requirement already satisfied: mysql-connector-python in /usr/local/lib/python3.10/dist-packages (9.1.0)\n"
          ]
        }
      ],
      "source": [
        "# install mysql connector di jupyter notebook\n",
        "# !pip install mysql-connector-python"
      ]
    },
    {
      "cell_type": "code",
      "execution_count": null,
      "metadata": {
        "id": "FVYwaObI8DC1"
      },
      "outputs": [],
      "source": [
        "import numpy as np\n",
        "import pandas as pd\n",
        "import matplotlib.pyplot as plt\n",
        "import seaborn as sns\n",
        "\n",
        "import mysql.connector\n",
        "from mysql.connector import Error\n",
        "\n",
        "# import warning to ignore warning\n",
        "import warnings\n",
        "warnings.filterwarnings('ignore')"
      ]
    },
    {
      "cell_type": "code",
      "execution_count": null,
      "metadata": {
        "id": "qIIZrWkuFyX5",
        "tags": []
      },
      "outputs": [],
      "source": [
        "# function to open connection to db\n",
        "def connect_to_db(host_name, port_name, user_name, user_password, db_name):\n",
        "    connection = None\n",
        "    try:\n",
        "        connection = mysql.connector.connect(\n",
        "            host=host_name,\n",
        "            port=port_name,\n",
        "            user=user_name,\n",
        "            passwd=user_password,\n",
        "            database=db_name\n",
        "        )\n",
        "        print(\"MySQL Database connection successful\")\n",
        "    except Error as err:\n",
        "        print(f\"Error: '{err}'\")\n",
        "\n",
        "    return connection"
      ]
    },
    {
      "cell_type": "code",
      "execution_count": null,
      "metadata": {
        "id": "Gv4IX_LLFyX6",
        "tags": []
      },
      "outputs": [],
      "source": [
        "# define mysql details\n",
        "host   = 'okegarden-laravel-prod-db-2024-11-15-0200.cgwhhgh85mr3.ap-southeast-3.rds.amazonaws.com'\n",
        "port   = 3306\n",
        "user   = 'intern_mes'\n",
        "passwd = 'sdfDFLES342982Ddlsdksd'\n",
        "databs = 'okegarden_laravel_prod_db'"
      ]
    },
    {
      "cell_type": "code",
      "execution_count": null,
      "metadata": {
        "colab": {
          "base_uri": "https://localhost:8080/"
        },
        "id": "PnmAGVMkFyX7",
        "outputId": "fdc15a85-a531-4b7f-eb21-f5e4ecab5edb",
        "tags": []
      },
      "outputs": [
        {
          "output_type": "stream",
          "name": "stdout",
          "text": [
            "MySQL Database connection successful\n"
          ]
        },
        {
          "output_type": "execute_result",
          "data": {
            "text/plain": [
              "<mysql.connector.connection.MySQLConnection at 0x7b87698d1870>"
            ]
          },
          "metadata": {},
          "execution_count": 131
        }
      ],
      "source": [
        "# try to connect to sakila database\n",
        "connect_to_db(host, port, user, passwd, databs)"
      ]
    },
    {
      "cell_type": "markdown",
      "metadata": {
        "id": "EDNp5IoLFyX8"
      },
      "source": [
        "## Writing the Function to Fetch Data"
      ]
    },
    {
      "cell_type": "code",
      "execution_count": null,
      "metadata": {
        "id": "KJEczQN8FyX9",
        "tags": []
      },
      "outputs": [],
      "source": [
        "# function to fetch data from database, the connection is closed after use.\n",
        "def fetch_data(host_name, port_name, user_name, user_password, db_name, query, params=None):\n",
        "    try:\n",
        "        # use with to ensure the connection is closed after use\n",
        "        with mysql.connector.connect(\n",
        "            host=host_name,\n",
        "            port=port_name,\n",
        "            user=user_name,\n",
        "            password=user_password,\n",
        "            database=db_name\n",
        "        ) as connection:\n",
        "            data = pd.read_sql(query, connection, params=params) # read the query to dataframe format\n",
        "            return data\n",
        "\n",
        "    except Error as e:\n",
        "        print(f\"Error while connecting to MySQL or fetching data: {e}\")\n",
        "        return None"
      ]
    },
    {
      "cell_type": "markdown",
      "metadata": {
        "id": "FHSiqaZp8DC1"
      },
      "source": [
        "# Assessing Data"
      ]
    },
    {
      "cell_type": "code",
      "execution_count": null,
      "metadata": {
        "id": "yZqG56z2FyX-",
        "tags": []
      },
      "outputs": [],
      "source": [
        "# usage example (the mysql detail already defined)\n",
        "# simple query\n",
        "master_query = \"\"\"\n",
        "\n",
        "SELECT\n",
        "   DATE(order_garden.created_at) AS date,\n",
        "   order_garden.id_order,\n",
        "   order_garden.id_user,\n",
        "   design.design_name,\n",
        "   order_garden.size_area,\n",
        "   CASE\n",
        "       WHEN order_garden.price = 0 THEN order_garden.total_promo\n",
        "       ELSE order_garden.price\n",
        "   END AS price,\n",
        "   desc_design.total_item_cost,\n",
        "   CASE\n",
        "       WHEN order_garden.size_area <= 10 THEN 2\n",
        "       WHEN order_garden.size_area BETWEEN 11 AND 20 THEN 3\n",
        "       WHEN order_garden.size_area BETWEEN 21 AND 30 THEN 4\n",
        "       WHEN order_garden.size_area BETWEEN 31 AND 40 THEN 5\n",
        "       WHEN order_garden.size_area BETWEEN 41 AND 50 THEN 5\n",
        "       ELSE 5\n",
        "   END AS jumlah_tenaga_kerja,\n",
        "   CASE\n",
        "       WHEN order_garden.size_area <= 10 THEN 2 * 250000\n",
        "       WHEN order_garden.size_area BETWEEN 11 AND 20 THEN 3 * 250000\n",
        "       WHEN order_garden.size_area BETWEEN 21 AND 30 THEN 4 * 250000\n",
        "       WHEN order_garden.size_area BETWEEN 31 AND 40 THEN 5 * 250000\n",
        "       WHEN order_garden.size_area BETWEEN 41 AND 50 THEN 5 * 250000\n",
        "       ELSE 5 * 250000\n",
        "   END AS total_biaya_tenaga_kerja,\n",
        "   (CASE\n",
        "       WHEN order_garden.size_area <= 10 THEN 2 * 250000\n",
        "       WHEN order_garden.size_area BETWEEN 11 AND 20 THEN 3 * 250000\n",
        "       WHEN order_garden.size_area BETWEEN 21 AND 30 THEN 4 * 250000\n",
        "       WHEN order_garden.size_area BETWEEN 31 AND 40 THEN 5 * 250000\n",
        "       WHEN order_garden.size_area BETWEEN 41 AND 50 THEN 5 * 250000\n",
        "       ELSE 5 * 250000\n",
        "   END + desc_design.total_item_cost) AS total_cost,\n",
        "   ((CASE\n",
        "       WHEN order_garden.price = 0 THEN order_garden.total_promo\n",
        "       ELSE order_garden.price\n",
        "   END) -\n",
        "   (CASE\n",
        "       WHEN order_garden.size_area <= 10 THEN 2 * 250000\n",
        "       WHEN order_garden.size_area BETWEEN 11 AND 20 THEN 3 * 250000\n",
        "       WHEN order_garden.size_area BETWEEN 21 AND 30 THEN 4 * 250000\n",
        "       WHEN order_garden.size_area BETWEEN 31 AND 40 THEN 5 * 250000\n",
        "       WHEN order_garden.size_area BETWEEN 41 AND 50 THEN 5 * 250000\n",
        "       ELSE 5 * 250000\n",
        "   END + desc_design.total_item_cost)) AS revenue,\n",
        "   order_garden.status,\n",
        "   order_garden.id_gardener,\n",
        "   u.name,\n",
        "   address_components.administrative_area_level_1 AS province_name,\n",
        "   address_components.administrative_area_level_2 AS city_name,\n",
        "   address_components.administrative_area_level_3 AS district\n",
        "FROM\n",
        "   `order_garden`\n",
        "JOIN\n",
        "   `design` on design.id_design = order_garden.id_design_finish\n",
        "LEFT JOIN\n",
        "   (\n",
        "       SELECT\n",
        "           id_design,\n",
        "           SUM(item_total_cost) AS total_item_cost\n",
        "       FROM\n",
        "           desc_design\n",
        "       GROUP BY\n",
        "           id_design\n",
        "   ) desc_design ON design.id_design = desc_design.id_design\n",
        "LEFT JOIN\n",
        "   `user` u on order_garden.id_gardener = u.id_user\n",
        "LEFT JOIN\n",
        "   `address_components` on order_garden.province = address_components.id\n",
        "WHERE\n",
        "\torder_garden.status != \"expired\"\n",
        "\tAND\n",
        "\torder_garden.id_user >= 250;\n",
        "\n",
        "\"\"\""
      ]
    },
    {
      "cell_type": "code",
      "execution_count": null,
      "metadata": {
        "id": "DU3p_WLrFyYA",
        "tags": []
      },
      "outputs": [],
      "source": [
        "# fetch data using function\n",
        "df = fetch_data(host, port, user, passwd, databs, master_query)"
      ]
    },
    {
      "cell_type": "code",
      "execution_count": null,
      "metadata": {
        "colab": {
          "base_uri": "https://localhost:8080/",
          "height": 331
        },
        "id": "zz6KczrsFyYA",
        "outputId": "517e6eab-f14f-40f1-c1c0-5e122b4e2986",
        "tags": []
      },
      "outputs": [
        {
          "output_type": "execute_result",
          "data": {
            "text/plain": [
              "         date  id_order  id_user       design_name  size_area       price  \\\n",
              "0  2024-04-23        65      927      Taman Regina       11.0   9230382.0   \n",
              "1  2024-04-27        66      926        Taman Susy       28.0   6581190.0   \n",
              "2  2024-05-16        70      925   Taman Lintang R       35.0  11550859.0   \n",
              "3  2024-05-24        72     1024       Taman Nopri        2.0   5440942.0   \n",
              "4  2024-06-12        74     1052  Taman Nur Atikah        5.0   4334875.0   \n",
              "\n",
              "   total_item_cost  jumlah_tenaga_kerja  total_biaya_tenaga_kerja  total_cost  \\\n",
              "0        4463700.0                    3                    750000   5213700.0   \n",
              "1        2646250.0                    4                   1000000   3646250.0   \n",
              "2        3931899.0                    5                   1250000   5181899.0   \n",
              "3        2987200.0                    2                    500000   3487200.0   \n",
              "4        2331500.0                    2                    500000   2831500.0   \n",
              "\n",
              "     revenue     status  id_gardener          name  \\\n",
              "0  4016682.0  in_review       1087.0          ODIH   \n",
              "1  2934940.0  in_review       1093.0  Budi Wahyudi   \n",
              "2  6368960.0     finish       1085.0    Ari aryana   \n",
              "3  1953742.0     finish       1087.0          ODIH   \n",
              "4  1503375.0     finish       1087.0          ODIH   \n",
              "\n",
              "                   province_name          city_name        district  \n",
              "0  Daerah Khusus Ibukota Jakarta    Jakarta Selatan       Jagakarsa  \n",
              "1                        Jakarta  East Jakarta City      Durensawit  \n",
              "2  Daerah Khusus Ibukota Jakarta    Jakarta Selatan       Jagakarsa  \n",
              "3                      West Java     Bekasi Regency  Tambun Selatan  \n",
              "4  Daerah Khusus Ibukota Jakarta    Jakarta Selatan       Jagakarsa  "
            ],
            "text/html": [
              "\n",
              "  <div id=\"df-5bb063e4-14f9-4fd5-bc56-7e1875bcde15\" class=\"colab-df-container\">\n",
              "    <div>\n",
              "<style scoped>\n",
              "    .dataframe tbody tr th:only-of-type {\n",
              "        vertical-align: middle;\n",
              "    }\n",
              "\n",
              "    .dataframe tbody tr th {\n",
              "        vertical-align: top;\n",
              "    }\n",
              "\n",
              "    .dataframe thead th {\n",
              "        text-align: right;\n",
              "    }\n",
              "</style>\n",
              "<table border=\"1\" class=\"dataframe\">\n",
              "  <thead>\n",
              "    <tr style=\"text-align: right;\">\n",
              "      <th></th>\n",
              "      <th>date</th>\n",
              "      <th>id_order</th>\n",
              "      <th>id_user</th>\n",
              "      <th>design_name</th>\n",
              "      <th>size_area</th>\n",
              "      <th>price</th>\n",
              "      <th>total_item_cost</th>\n",
              "      <th>jumlah_tenaga_kerja</th>\n",
              "      <th>total_biaya_tenaga_kerja</th>\n",
              "      <th>total_cost</th>\n",
              "      <th>revenue</th>\n",
              "      <th>status</th>\n",
              "      <th>id_gardener</th>\n",
              "      <th>name</th>\n",
              "      <th>province_name</th>\n",
              "      <th>city_name</th>\n",
              "      <th>district</th>\n",
              "    </tr>\n",
              "  </thead>\n",
              "  <tbody>\n",
              "    <tr>\n",
              "      <th>0</th>\n",
              "      <td>2024-04-23</td>\n",
              "      <td>65</td>\n",
              "      <td>927</td>\n",
              "      <td>Taman Regina</td>\n",
              "      <td>11.0</td>\n",
              "      <td>9230382.0</td>\n",
              "      <td>4463700.0</td>\n",
              "      <td>3</td>\n",
              "      <td>750000</td>\n",
              "      <td>5213700.0</td>\n",
              "      <td>4016682.0</td>\n",
              "      <td>in_review</td>\n",
              "      <td>1087.0</td>\n",
              "      <td>ODIH</td>\n",
              "      <td>Daerah Khusus Ibukota Jakarta</td>\n",
              "      <td>Jakarta Selatan</td>\n",
              "      <td>Jagakarsa</td>\n",
              "    </tr>\n",
              "    <tr>\n",
              "      <th>1</th>\n",
              "      <td>2024-04-27</td>\n",
              "      <td>66</td>\n",
              "      <td>926</td>\n",
              "      <td>Taman Susy</td>\n",
              "      <td>28.0</td>\n",
              "      <td>6581190.0</td>\n",
              "      <td>2646250.0</td>\n",
              "      <td>4</td>\n",
              "      <td>1000000</td>\n",
              "      <td>3646250.0</td>\n",
              "      <td>2934940.0</td>\n",
              "      <td>in_review</td>\n",
              "      <td>1093.0</td>\n",
              "      <td>Budi Wahyudi</td>\n",
              "      <td>Jakarta</td>\n",
              "      <td>East Jakarta City</td>\n",
              "      <td>Durensawit</td>\n",
              "    </tr>\n",
              "    <tr>\n",
              "      <th>2</th>\n",
              "      <td>2024-05-16</td>\n",
              "      <td>70</td>\n",
              "      <td>925</td>\n",
              "      <td>Taman Lintang R</td>\n",
              "      <td>35.0</td>\n",
              "      <td>11550859.0</td>\n",
              "      <td>3931899.0</td>\n",
              "      <td>5</td>\n",
              "      <td>1250000</td>\n",
              "      <td>5181899.0</td>\n",
              "      <td>6368960.0</td>\n",
              "      <td>finish</td>\n",
              "      <td>1085.0</td>\n",
              "      <td>Ari aryana</td>\n",
              "      <td>Daerah Khusus Ibukota Jakarta</td>\n",
              "      <td>Jakarta Selatan</td>\n",
              "      <td>Jagakarsa</td>\n",
              "    </tr>\n",
              "    <tr>\n",
              "      <th>3</th>\n",
              "      <td>2024-05-24</td>\n",
              "      <td>72</td>\n",
              "      <td>1024</td>\n",
              "      <td>Taman Nopri</td>\n",
              "      <td>2.0</td>\n",
              "      <td>5440942.0</td>\n",
              "      <td>2987200.0</td>\n",
              "      <td>2</td>\n",
              "      <td>500000</td>\n",
              "      <td>3487200.0</td>\n",
              "      <td>1953742.0</td>\n",
              "      <td>finish</td>\n",
              "      <td>1087.0</td>\n",
              "      <td>ODIH</td>\n",
              "      <td>West Java</td>\n",
              "      <td>Bekasi Regency</td>\n",
              "      <td>Tambun Selatan</td>\n",
              "    </tr>\n",
              "    <tr>\n",
              "      <th>4</th>\n",
              "      <td>2024-06-12</td>\n",
              "      <td>74</td>\n",
              "      <td>1052</td>\n",
              "      <td>Taman Nur Atikah</td>\n",
              "      <td>5.0</td>\n",
              "      <td>4334875.0</td>\n",
              "      <td>2331500.0</td>\n",
              "      <td>2</td>\n",
              "      <td>500000</td>\n",
              "      <td>2831500.0</td>\n",
              "      <td>1503375.0</td>\n",
              "      <td>finish</td>\n",
              "      <td>1087.0</td>\n",
              "      <td>ODIH</td>\n",
              "      <td>Daerah Khusus Ibukota Jakarta</td>\n",
              "      <td>Jakarta Selatan</td>\n",
              "      <td>Jagakarsa</td>\n",
              "    </tr>\n",
              "  </tbody>\n",
              "</table>\n",
              "</div>\n",
              "    <div class=\"colab-df-buttons\">\n",
              "\n",
              "  <div class=\"colab-df-container\">\n",
              "    <button class=\"colab-df-convert\" onclick=\"convertToInteractive('df-5bb063e4-14f9-4fd5-bc56-7e1875bcde15')\"\n",
              "            title=\"Convert this dataframe to an interactive table.\"\n",
              "            style=\"display:none;\">\n",
              "\n",
              "  <svg xmlns=\"http://www.w3.org/2000/svg\" height=\"24px\" viewBox=\"0 -960 960 960\">\n",
              "    <path d=\"M120-120v-720h720v720H120Zm60-500h600v-160H180v160Zm220 220h160v-160H400v160Zm0 220h160v-160H400v160ZM180-400h160v-160H180v160Zm440 0h160v-160H620v160ZM180-180h160v-160H180v160Zm440 0h160v-160H620v160Z\"/>\n",
              "  </svg>\n",
              "    </button>\n",
              "\n",
              "  <style>\n",
              "    .colab-df-container {\n",
              "      display:flex;\n",
              "      gap: 12px;\n",
              "    }\n",
              "\n",
              "    .colab-df-convert {\n",
              "      background-color: #E8F0FE;\n",
              "      border: none;\n",
              "      border-radius: 50%;\n",
              "      cursor: pointer;\n",
              "      display: none;\n",
              "      fill: #1967D2;\n",
              "      height: 32px;\n",
              "      padding: 0 0 0 0;\n",
              "      width: 32px;\n",
              "    }\n",
              "\n",
              "    .colab-df-convert:hover {\n",
              "      background-color: #E2EBFA;\n",
              "      box-shadow: 0px 1px 2px rgba(60, 64, 67, 0.3), 0px 1px 3px 1px rgba(60, 64, 67, 0.15);\n",
              "      fill: #174EA6;\n",
              "    }\n",
              "\n",
              "    .colab-df-buttons div {\n",
              "      margin-bottom: 4px;\n",
              "    }\n",
              "\n",
              "    [theme=dark] .colab-df-convert {\n",
              "      background-color: #3B4455;\n",
              "      fill: #D2E3FC;\n",
              "    }\n",
              "\n",
              "    [theme=dark] .colab-df-convert:hover {\n",
              "      background-color: #434B5C;\n",
              "      box-shadow: 0px 1px 3px 1px rgba(0, 0, 0, 0.15);\n",
              "      filter: drop-shadow(0px 1px 2px rgba(0, 0, 0, 0.3));\n",
              "      fill: #FFFFFF;\n",
              "    }\n",
              "  </style>\n",
              "\n",
              "    <script>\n",
              "      const buttonEl =\n",
              "        document.querySelector('#df-5bb063e4-14f9-4fd5-bc56-7e1875bcde15 button.colab-df-convert');\n",
              "      buttonEl.style.display =\n",
              "        google.colab.kernel.accessAllowed ? 'block' : 'none';\n",
              "\n",
              "      async function convertToInteractive(key) {\n",
              "        const element = document.querySelector('#df-5bb063e4-14f9-4fd5-bc56-7e1875bcde15');\n",
              "        const dataTable =\n",
              "          await google.colab.kernel.invokeFunction('convertToInteractive',\n",
              "                                                    [key], {});\n",
              "        if (!dataTable) return;\n",
              "\n",
              "        const docLinkHtml = 'Like what you see? Visit the ' +\n",
              "          '<a target=\"_blank\" href=https://colab.research.google.com/notebooks/data_table.ipynb>data table notebook</a>'\n",
              "          + ' to learn more about interactive tables.';\n",
              "        element.innerHTML = '';\n",
              "        dataTable['output_type'] = 'display_data';\n",
              "        await google.colab.output.renderOutput(dataTable, element);\n",
              "        const docLink = document.createElement('div');\n",
              "        docLink.innerHTML = docLinkHtml;\n",
              "        element.appendChild(docLink);\n",
              "      }\n",
              "    </script>\n",
              "  </div>\n",
              "\n",
              "\n",
              "<div id=\"df-07852899-a58a-416d-a249-ff1fb1e688b9\">\n",
              "  <button class=\"colab-df-quickchart\" onclick=\"quickchart('df-07852899-a58a-416d-a249-ff1fb1e688b9')\"\n",
              "            title=\"Suggest charts\"\n",
              "            style=\"display:none;\">\n",
              "\n",
              "<svg xmlns=\"http://www.w3.org/2000/svg\" height=\"24px\"viewBox=\"0 0 24 24\"\n",
              "     width=\"24px\">\n",
              "    <g>\n",
              "        <path d=\"M19 3H5c-1.1 0-2 .9-2 2v14c0 1.1.9 2 2 2h14c1.1 0 2-.9 2-2V5c0-1.1-.9-2-2-2zM9 17H7v-7h2v7zm4 0h-2V7h2v10zm4 0h-2v-4h2v4z\"/>\n",
              "    </g>\n",
              "</svg>\n",
              "  </button>\n",
              "\n",
              "<style>\n",
              "  .colab-df-quickchart {\n",
              "      --bg-color: #E8F0FE;\n",
              "      --fill-color: #1967D2;\n",
              "      --hover-bg-color: #E2EBFA;\n",
              "      --hover-fill-color: #174EA6;\n",
              "      --disabled-fill-color: #AAA;\n",
              "      --disabled-bg-color: #DDD;\n",
              "  }\n",
              "\n",
              "  [theme=dark] .colab-df-quickchart {\n",
              "      --bg-color: #3B4455;\n",
              "      --fill-color: #D2E3FC;\n",
              "      --hover-bg-color: #434B5C;\n",
              "      --hover-fill-color: #FFFFFF;\n",
              "      --disabled-bg-color: #3B4455;\n",
              "      --disabled-fill-color: #666;\n",
              "  }\n",
              "\n",
              "  .colab-df-quickchart {\n",
              "    background-color: var(--bg-color);\n",
              "    border: none;\n",
              "    border-radius: 50%;\n",
              "    cursor: pointer;\n",
              "    display: none;\n",
              "    fill: var(--fill-color);\n",
              "    height: 32px;\n",
              "    padding: 0;\n",
              "    width: 32px;\n",
              "  }\n",
              "\n",
              "  .colab-df-quickchart:hover {\n",
              "    background-color: var(--hover-bg-color);\n",
              "    box-shadow: 0 1px 2px rgba(60, 64, 67, 0.3), 0 1px 3px 1px rgba(60, 64, 67, 0.15);\n",
              "    fill: var(--button-hover-fill-color);\n",
              "  }\n",
              "\n",
              "  .colab-df-quickchart-complete:disabled,\n",
              "  .colab-df-quickchart-complete:disabled:hover {\n",
              "    background-color: var(--disabled-bg-color);\n",
              "    fill: var(--disabled-fill-color);\n",
              "    box-shadow: none;\n",
              "  }\n",
              "\n",
              "  .colab-df-spinner {\n",
              "    border: 2px solid var(--fill-color);\n",
              "    border-color: transparent;\n",
              "    border-bottom-color: var(--fill-color);\n",
              "    animation:\n",
              "      spin 1s steps(1) infinite;\n",
              "  }\n",
              "\n",
              "  @keyframes spin {\n",
              "    0% {\n",
              "      border-color: transparent;\n",
              "      border-bottom-color: var(--fill-color);\n",
              "      border-left-color: var(--fill-color);\n",
              "    }\n",
              "    20% {\n",
              "      border-color: transparent;\n",
              "      border-left-color: var(--fill-color);\n",
              "      border-top-color: var(--fill-color);\n",
              "    }\n",
              "    30% {\n",
              "      border-color: transparent;\n",
              "      border-left-color: var(--fill-color);\n",
              "      border-top-color: var(--fill-color);\n",
              "      border-right-color: var(--fill-color);\n",
              "    }\n",
              "    40% {\n",
              "      border-color: transparent;\n",
              "      border-right-color: var(--fill-color);\n",
              "      border-top-color: var(--fill-color);\n",
              "    }\n",
              "    60% {\n",
              "      border-color: transparent;\n",
              "      border-right-color: var(--fill-color);\n",
              "    }\n",
              "    80% {\n",
              "      border-color: transparent;\n",
              "      border-right-color: var(--fill-color);\n",
              "      border-bottom-color: var(--fill-color);\n",
              "    }\n",
              "    90% {\n",
              "      border-color: transparent;\n",
              "      border-bottom-color: var(--fill-color);\n",
              "    }\n",
              "  }\n",
              "</style>\n",
              "\n",
              "  <script>\n",
              "    async function quickchart(key) {\n",
              "      const quickchartButtonEl =\n",
              "        document.querySelector('#' + key + ' button');\n",
              "      quickchartButtonEl.disabled = true;  // To prevent multiple clicks.\n",
              "      quickchartButtonEl.classList.add('colab-df-spinner');\n",
              "      try {\n",
              "        const charts = await google.colab.kernel.invokeFunction(\n",
              "            'suggestCharts', [key], {});\n",
              "      } catch (error) {\n",
              "        console.error('Error during call to suggestCharts:', error);\n",
              "      }\n",
              "      quickchartButtonEl.classList.remove('colab-df-spinner');\n",
              "      quickchartButtonEl.classList.add('colab-df-quickchart-complete');\n",
              "    }\n",
              "    (() => {\n",
              "      let quickchartButtonEl =\n",
              "        document.querySelector('#df-07852899-a58a-416d-a249-ff1fb1e688b9 button');\n",
              "      quickchartButtonEl.style.display =\n",
              "        google.colab.kernel.accessAllowed ? 'block' : 'none';\n",
              "    })();\n",
              "  </script>\n",
              "</div>\n",
              "\n",
              "    </div>\n",
              "  </div>\n"
            ],
            "application/vnd.google.colaboratory.intrinsic+json": {
              "type": "dataframe",
              "variable_name": "df",
              "summary": "{\n  \"name\": \"df\",\n  \"rows\": 107,\n  \"fields\": [\n    {\n      \"column\": \"date\",\n      \"properties\": {\n        \"dtype\": \"date\",\n        \"min\": \"2024-04-23\",\n        \"max\": \"2024-11-14\",\n        \"num_unique_values\": 49,\n        \"samples\": [\n          \"2024-07-23\",\n          \"2024-11-06\",\n          \"2024-11-12\"\n        ],\n        \"semantic_type\": \"\",\n        \"description\": \"\"\n      }\n    },\n    {\n      \"column\": \"id_order\",\n      \"properties\": {\n        \"dtype\": \"number\",\n        \"std\": 42,\n        \"min\": 65,\n        \"max\": 211,\n        \"num_unique_values\": 107,\n        \"samples\": [\n          174,\n          80,\n          74\n        ],\n        \"semantic_type\": \"\",\n        \"description\": \"\"\n      }\n    },\n    {\n      \"column\": \"id_user\",\n      \"properties\": {\n        \"dtype\": \"number\",\n        \"std\": 287,\n        \"min\": 670,\n        \"max\": 1878,\n        \"num_unique_values\": 100,\n        \"samples\": [\n          1623,\n          1418,\n          916\n        ],\n        \"semantic_type\": \"\",\n        \"description\": \"\"\n      }\n    },\n    {\n      \"column\": \"design_name\",\n      \"properties\": {\n        \"dtype\": \"string\",\n        \"num_unique_values\": 100,\n        \"samples\": [\n          \"Taman Anthony\",\n          \"Taman Kering\",\n          \"taman kak Sheren\"\n        ],\n        \"semantic_type\": \"\",\n        \"description\": \"\"\n      }\n    },\n    {\n      \"column\": \"size_area\",\n      \"properties\": {\n        \"dtype\": \"number\",\n        \"std\": 18.610514800273364,\n        \"min\": 1.0,\n        \"max\": 145.725,\n        \"num_unique_values\": 37,\n        \"samples\": [\n          51.0,\n          19.0,\n          5.0\n        ],\n        \"semantic_type\": \"\",\n        \"description\": \"\"\n      }\n    },\n    {\n      \"column\": \"price\",\n      \"properties\": {\n        \"dtype\": \"number\",\n        \"std\": 11902952.095969193,\n        \"min\": 1625150.0,\n        \"max\": 97412240.0,\n        \"num_unique_values\": 102,\n        \"samples\": [\n          14120200.0,\n          3903080.0,\n          13788535.0\n        ],\n        \"semantic_type\": \"\",\n        \"description\": \"\"\n      }\n    },\n    {\n      \"column\": \"total_item_cost\",\n      \"properties\": {\n        \"dtype\": \"number\",\n        \"std\": 6187656.053944681,\n        \"min\": 357000.0,\n        \"max\": 55396899.0,\n        \"num_unique_values\": 100,\n        \"samples\": [\n          4754750.0,\n          1445500.0,\n          14760100.0\n        ],\n        \"semantic_type\": \"\",\n        \"description\": \"\"\n      }\n    },\n    {\n      \"column\": \"jumlah_tenaga_kerja\",\n      \"properties\": {\n        \"dtype\": \"number\",\n        \"std\": 1,\n        \"min\": 2,\n        \"max\": 5,\n        \"num_unique_values\": 4,\n        \"samples\": [\n          4,\n          2,\n          3\n        ],\n        \"semantic_type\": \"\",\n        \"description\": \"\"\n      }\n    },\n    {\n      \"column\": \"total_biaya_tenaga_kerja\",\n      \"properties\": {\n        \"dtype\": \"number\",\n        \"std\": 256548,\n        \"min\": 500000,\n        \"max\": 1250000,\n        \"num_unique_values\": 4,\n        \"samples\": [\n          1000000,\n          500000,\n          750000\n        ],\n        \"semantic_type\": \"\",\n        \"description\": \"\"\n      }\n    },\n    {\n      \"column\": \"total_cost\",\n      \"properties\": {\n        \"dtype\": \"number\",\n        \"std\": 6257958.70215338,\n        \"min\": 1087700.0,\n        \"max\": 55896899.0,\n        \"num_unique_values\": 100,\n        \"samples\": [\n          5504750.0,\n          1945500.0,\n          15760100.0\n        ],\n        \"semantic_type\": \"\",\n        \"description\": \"\"\n      }\n    },\n    {\n      \"column\": \"revenue\",\n      \"properties\": {\n        \"dtype\": \"number\",\n        \"std\": 5966180.253419319,\n        \"min\": 18150.0,\n        \"max\": 41515341.0,\n        \"num_unique_values\": 102,\n        \"samples\": [\n          6644950.0,\n          1241900.0,\n          7238785.0\n        ],\n        \"semantic_type\": \"\",\n        \"description\": \"\"\n      }\n    },\n    {\n      \"column\": \"status\",\n      \"properties\": {\n        \"dtype\": \"category\",\n        \"num_unique_values\": 5,\n        \"samples\": [\n          \"finish\",\n          \"wait_gardener\",\n          \"paid\"\n        ],\n        \"semantic_type\": \"\",\n        \"description\": \"\"\n      }\n    },\n    {\n      \"column\": \"id_gardener\",\n      \"properties\": {\n        \"dtype\": \"number\",\n        \"std\": 47.05039031745586,\n        \"min\": 1085.0,\n        \"max\": 1361.0,\n        \"num_unique_values\": 10,\n        \"samples\": [\n          1090.0,\n          1093.0,\n          1361.0\n        ],\n        \"semantic_type\": \"\",\n        \"description\": \"\"\n      }\n    },\n    {\n      \"column\": \"name\",\n      \"properties\": {\n        \"dtype\": \"category\",\n        \"num_unique_values\": 10,\n        \"samples\": [\n          \"Wandi obos\",\n          \"Budi Wahyudi\",\n          \"Wahyu Alvian\"\n        ],\n        \"semantic_type\": \"\",\n        \"description\": \"\"\n      }\n    },\n    {\n      \"column\": \"province_name\",\n      \"properties\": {\n        \"dtype\": \"category\",\n        \"num_unique_values\": 4,\n        \"samples\": [\n          \"Jakarta\",\n          \"Banten\",\n          \"Daerah Khusus Ibukota Jakarta\"\n        ],\n        \"semantic_type\": \"\",\n        \"description\": \"\"\n      }\n    },\n    {\n      \"column\": \"city_name\",\n      \"properties\": {\n        \"dtype\": \"category\",\n        \"num_unique_values\": 4,\n        \"samples\": [\n          \"East Jakarta City\",\n          \"South Tangerang City\",\n          \"Jakarta Selatan\"\n        ],\n        \"semantic_type\": \"\",\n        \"description\": \"\"\n      }\n    },\n    {\n      \"column\": \"district\",\n      \"properties\": {\n        \"dtype\": \"category\",\n        \"num_unique_values\": 4,\n        \"samples\": [\n          \"Durensawit\",\n          \"Pondok Aren\",\n          \"Jagakarsa\"\n        ],\n        \"semantic_type\": \"\",\n        \"description\": \"\"\n      }\n    }\n  ]\n}"
            }
          },
          "metadata": {},
          "execution_count": 135
        }
      ],
      "source": [
        "# show data\n",
        "df.head()"
      ]
    },
    {
      "cell_type": "code",
      "execution_count": null,
      "metadata": {
        "colab": {
          "base_uri": "https://localhost:8080/"
        },
        "id": "kgxv0RVwFyYB",
        "outputId": "7fc33f59-46ab-4f59-dbf8-a864c70088ca",
        "tags": []
      },
      "outputs": [
        {
          "output_type": "stream",
          "name": "stdout",
          "text": [
            "<class 'pandas.core.frame.DataFrame'>\n",
            "RangeIndex: 107 entries, 0 to 106\n",
            "Data columns (total 17 columns):\n",
            " #   Column                    Non-Null Count  Dtype  \n",
            "---  ------                    --------------  -----  \n",
            " 0   date                      107 non-null    object \n",
            " 1   id_order                  107 non-null    int64  \n",
            " 2   id_user                   107 non-null    int64  \n",
            " 3   design_name               107 non-null    object \n",
            " 4   size_area                 107 non-null    float64\n",
            " 5   price                     107 non-null    float64\n",
            " 6   total_item_cost           107 non-null    float64\n",
            " 7   jumlah_tenaga_kerja       107 non-null    int64  \n",
            " 8   total_biaya_tenaga_kerja  107 non-null    int64  \n",
            " 9   total_cost                107 non-null    float64\n",
            " 10  revenue                   107 non-null    float64\n",
            " 11  status                    107 non-null    object \n",
            " 12  id_gardener               99 non-null     float64\n",
            " 13  name                      99 non-null     object \n",
            " 14  province_name             107 non-null    object \n",
            " 15  city_name                 107 non-null    object \n",
            " 16  district                  107 non-null    object \n",
            "dtypes: float64(6), int64(4), object(7)\n",
            "memory usage: 14.3+ KB\n"
          ]
        }
      ],
      "source": [
        "# show info\n",
        "df.info()"
      ]
    },
    {
      "cell_type": "markdown",
      "metadata": {
        "id": "YDy6HUI0FyYC"
      },
      "source": [
        "## Missing Values"
      ]
    },
    {
      "cell_type": "code",
      "execution_count": null,
      "metadata": {
        "colab": {
          "base_uri": "https://localhost:8080/",
          "height": 617
        },
        "id": "mQI9cWvuFyYC",
        "outputId": "c4142c83-5c98-4f34-fa74-a496f170ea75"
      },
      "outputs": [
        {
          "output_type": "execute_result",
          "data": {
            "text/plain": [
              "date                        0\n",
              "id_order                    0\n",
              "id_user                     0\n",
              "design_name                 0\n",
              "size_area                   0\n",
              "price                       0\n",
              "total_item_cost             0\n",
              "jumlah_tenaga_kerja         0\n",
              "total_biaya_tenaga_kerja    0\n",
              "total_cost                  0\n",
              "revenue                     0\n",
              "status                      0\n",
              "id_gardener                 8\n",
              "name                        8\n",
              "province_name               0\n",
              "city_name                   0\n",
              "district                    0\n",
              "dtype: int64"
            ],
            "text/html": [
              "<div>\n",
              "<style scoped>\n",
              "    .dataframe tbody tr th:only-of-type {\n",
              "        vertical-align: middle;\n",
              "    }\n",
              "\n",
              "    .dataframe tbody tr th {\n",
              "        vertical-align: top;\n",
              "    }\n",
              "\n",
              "    .dataframe thead th {\n",
              "        text-align: right;\n",
              "    }\n",
              "</style>\n",
              "<table border=\"1\" class=\"dataframe\">\n",
              "  <thead>\n",
              "    <tr style=\"text-align: right;\">\n",
              "      <th></th>\n",
              "      <th>0</th>\n",
              "    </tr>\n",
              "  </thead>\n",
              "  <tbody>\n",
              "    <tr>\n",
              "      <th>date</th>\n",
              "      <td>0</td>\n",
              "    </tr>\n",
              "    <tr>\n",
              "      <th>id_order</th>\n",
              "      <td>0</td>\n",
              "    </tr>\n",
              "    <tr>\n",
              "      <th>id_user</th>\n",
              "      <td>0</td>\n",
              "    </tr>\n",
              "    <tr>\n",
              "      <th>design_name</th>\n",
              "      <td>0</td>\n",
              "    </tr>\n",
              "    <tr>\n",
              "      <th>size_area</th>\n",
              "      <td>0</td>\n",
              "    </tr>\n",
              "    <tr>\n",
              "      <th>price</th>\n",
              "      <td>0</td>\n",
              "    </tr>\n",
              "    <tr>\n",
              "      <th>total_item_cost</th>\n",
              "      <td>0</td>\n",
              "    </tr>\n",
              "    <tr>\n",
              "      <th>jumlah_tenaga_kerja</th>\n",
              "      <td>0</td>\n",
              "    </tr>\n",
              "    <tr>\n",
              "      <th>total_biaya_tenaga_kerja</th>\n",
              "      <td>0</td>\n",
              "    </tr>\n",
              "    <tr>\n",
              "      <th>total_cost</th>\n",
              "      <td>0</td>\n",
              "    </tr>\n",
              "    <tr>\n",
              "      <th>revenue</th>\n",
              "      <td>0</td>\n",
              "    </tr>\n",
              "    <tr>\n",
              "      <th>status</th>\n",
              "      <td>0</td>\n",
              "    </tr>\n",
              "    <tr>\n",
              "      <th>id_gardener</th>\n",
              "      <td>8</td>\n",
              "    </tr>\n",
              "    <tr>\n",
              "      <th>name</th>\n",
              "      <td>8</td>\n",
              "    </tr>\n",
              "    <tr>\n",
              "      <th>province_name</th>\n",
              "      <td>0</td>\n",
              "    </tr>\n",
              "    <tr>\n",
              "      <th>city_name</th>\n",
              "      <td>0</td>\n",
              "    </tr>\n",
              "    <tr>\n",
              "      <th>district</th>\n",
              "      <td>0</td>\n",
              "    </tr>\n",
              "  </tbody>\n",
              "</table>\n",
              "</div><br><label><b>dtype:</b> int64</label>"
            ]
          },
          "metadata": {},
          "execution_count": 137
        }
      ],
      "source": [
        "df.isna().sum()"
      ]
    },
    {
      "cell_type": "markdown",
      "metadata": {
        "id": "xA9tLTaZFyYD"
      },
      "source": [
        "## Duplicates"
      ]
    },
    {
      "cell_type": "code",
      "execution_count": null,
      "metadata": {
        "colab": {
          "base_uri": "https://localhost:8080/"
        },
        "id": "oxGRnt73FyYD",
        "outputId": "8ad7dd2c-bf73-4ef2-bad2-039e96fa0771"
      },
      "outputs": [
        {
          "output_type": "stream",
          "name": "stdout",
          "text": [
            "Jumlah duplikasi:  0\n"
          ]
        }
      ],
      "source": [
        "print(\"Jumlah duplikasi: \", df.duplicated().sum())"
      ]
    },
    {
      "cell_type": "markdown",
      "metadata": {
        "id": "Tc8ZOmOnFyYF"
      },
      "source": [
        "## Outliers"
      ]
    },
    {
      "cell_type": "code",
      "execution_count": null,
      "metadata": {
        "id": "nm3K6E3SFyYF"
      },
      "outputs": [],
      "source": [
        "df_num = df.select_dtypes(include =['int64', 'float64'])"
      ]
    },
    {
      "cell_type": "code",
      "execution_count": null,
      "metadata": {
        "id": "kh-wc-KxFyYG"
      },
      "outputs": [],
      "source": [
        "# function to find outliers, using numpy\n",
        "def find_outlier(data):\n",
        "    # find quantile\n",
        "    Q1 = np.quantile(data, .25)\n",
        "    Q2 = np.quantile(data, .50) # median\n",
        "    Q3 = np.quantile(data, .75)\n",
        "\n",
        "    # find IQR\n",
        "    IQR = (Q3 - Q1) * 1.5\n",
        "    lower_limit = Q1 - IQR\n",
        "    upper_limit = Q3 + IQR\n",
        "\n",
        "    # find outlier\n",
        "    outlier = ''\n",
        "    for i in range(len(data)):\n",
        "        if data[i] > upper_limit:\n",
        "            outlier = outlier + str(data[i]) + ', '\n",
        "\n",
        "        elif data[i] < lower_limit:\n",
        "            outlier = outlier + str(data[i]) + ', '\n",
        "\n",
        "    return outlier"
      ]
    },
    {
      "cell_type": "code",
      "execution_count": null,
      "metadata": {
        "colab": {
          "base_uri": "https://localhost:8080/"
        },
        "id": "SP-B7wRpFyYH",
        "outputId": "6290ae17-ed60-4790-dee3-a935a7909806"
      },
      "outputs": [
        {
          "output_type": "stream",
          "name": "stdout",
          "text": [
            "Outliers Detected id_order:  0\n",
            "Outliers Detected id_user:  0\n",
            "Outliers Detected size_area:  70\n",
            "Outliers Detected price:  132\n",
            "Outliers Detected total_item_cost:  142\n",
            "Outliers Detected jumlah_tenaga_kerja:  36\n",
            "Outliers Detected total_biaya_tenaga_kerja:  108\n",
            "Outliers Detected total_cost:  120\n",
            "Outliers Detected revenue:  132\n",
            "Outliers Detected id_gardener:  0\n"
          ]
        }
      ],
      "source": [
        "# detect outliers from each columns using loop\n",
        "for i in df_num:\n",
        "    val = df_num[i].sort_values().values.tolist()\n",
        "    print(f\"Outliers Detected {i}: \", len(find_outlier(val)))"
      ]
    },
    {
      "cell_type": "code",
      "execution_count": null,
      "metadata": {
        "colab": {
          "base_uri": "https://localhost:8080/",
          "height": 1000
        },
        "id": "wBHwuNL4FyYH",
        "outputId": "5dd190da-1b0e-46d0-bf85-8473672c96cb"
      },
      "outputs": [
        {
          "output_type": "display_data",
          "data": {
            "text/plain": [
              "<Figure size 900x1200 with 10 Axes>"
            ],
            "image/png": "[encoded data removed]"
          },
          "metadata": {}
        }
      ],
      "source": [
        "# Set the number of plots\n",
        "num_cols = 3  # Number of columns per row\n",
        "num_rows = (len(df_num.columns) + num_cols - 1) // num_cols  # Count the number of rows required\n",
        "plt.figure(figsize=(3 * num_cols, 3 * num_rows))  # Set image size\n",
        "\n",
        "for i, column in enumerate(df_num.columns):\n",
        "    plt.subplot(num_rows, num_cols, i + 1)  # Creating a subplot\n",
        "    sns.boxplot(data=df_num, x=column)\n",
        "    plt.title(f\"Boxplot of {column}\")\n",
        "\n",
        "plt.tight_layout()  # Arrange the layout so that it doesn't overlap\n",
        "plt.show()"
      ]
    },
    {
      "cell_type": "markdown",
      "metadata": {
        "id": "EhN5R4hr8DC1"
      },
      "source": [
        "# Cleaning & Data Transformation"
      ]
    },
    {
      "cell_type": "markdown",
      "metadata": {
        "id": "pOJHMjkRGme5"
      },
      "source": [
        "### Type casting"
      ]
    },
    {
      "cell_type": "code",
      "execution_count": null,
      "metadata": {
        "id": "jVnYpprE9Evz"
      },
      "outputs": [],
      "source": [
        "df['date'] = pd.to_datetime(df['date'])"
      ]
    },
    {
      "cell_type": "code",
      "source": [
        "df['price'] = df['price'].astype('int64')"
      ],
      "metadata": {
        "id": "Msok5c_VklS2"
      },
      "execution_count": null,
      "outputs": []
    },
    {
      "cell_type": "code",
      "source": [
        "df['total_item_cost'] = df['total_item_cost'].astype('int64')"
      ],
      "metadata": {
        "id": "AkKw0ERSkuWE"
      },
      "execution_count": null,
      "outputs": []
    },
    {
      "cell_type": "code",
      "source": [
        "df['total_cost'] = df['total_cost'].astype('int64')"
      ],
      "metadata": {
        "id": "7PAxrHCDk42s"
      },
      "execution_count": null,
      "outputs": []
    },
    {
      "cell_type": "code",
      "source": [
        "df['revenue'] = df['revenue'].astype('int64')"
      ],
      "metadata": {
        "id": "aq-tKBYPlBbc"
      },
      "execution_count": null,
      "outputs": []
    },
    {
      "cell_type": "code",
      "execution_count": null,
      "metadata": {
        "colab": {
          "base_uri": "https://localhost:8080/"
        },
        "id": "vXXca1_jJ0PH",
        "outputId": "e5d622ab-1133-455d-c732-815507f5a2d9"
      },
      "outputs": [
        {
          "output_type": "stream",
          "name": "stdout",
          "text": [
            "<class 'pandas.core.frame.DataFrame'>\n",
            "RangeIndex: 107 entries, 0 to 106\n",
            "Data columns (total 17 columns):\n",
            " #   Column                    Non-Null Count  Dtype         \n",
            "---  ------                    --------------  -----         \n",
            " 0   date                      107 non-null    datetime64[ns]\n",
            " 1   id_order                  107 non-null    int64         \n",
            " 2   id_user                   107 non-null    int64         \n",
            " 3   design_name               107 non-null    object        \n",
            " 4   size_area                 107 non-null    float64       \n",
            " 5   price                     107 non-null    int64         \n",
            " 6   total_item_cost           107 non-null    int64         \n",
            " 7   jumlah_tenaga_kerja       107 non-null    int64         \n",
            " 8   total_biaya_tenaga_kerja  107 non-null    int64         \n",
            " 9   total_cost                107 non-null    int64         \n",
            " 10  revenue                   107 non-null    int64         \n",
            " 11  status                    107 non-null    object        \n",
            " 12  id_gardener               99 non-null     float64       \n",
            " 13  name                      99 non-null     object        \n",
            " 14  province_name             107 non-null    object        \n",
            " 15  city_name                 107 non-null    object        \n",
            " 16  district                  107 non-null    object        \n",
            "dtypes: datetime64[ns](1), float64(2), int64(8), object(6)\n",
            "memory usage: 14.3+ KB\n"
          ]
        }
      ],
      "source": [
        "df.info()"
      ]
    },
    {
      "cell_type": "markdown",
      "metadata": {
        "id": "aO-1bjfCKzax"
      },
      "source": [
        "### Handling Missing Values"
      ]
    },
    {
      "cell_type": "code",
      "execution_count": null,
      "metadata": {
        "id": "8Vxco3WLLKgl"
      },
      "outputs": [],
      "source": [
        "df['id_gardener'] = df['id_gardener'].fillna(0)\n",
        "df['id_gardener'] = df['id_gardener'].astype('int64')"
      ]
    },
    {
      "cell_type": "code",
      "execution_count": null,
      "metadata": {
        "id": "6ZXZZK2QLqvw"
      },
      "outputs": [],
      "source": [
        "df['name'] = df['name'].fillna('none')"
      ]
    },
    {
      "cell_type": "code",
      "execution_count": null,
      "metadata": {
        "colab": {
          "base_uri": "https://localhost:8080/",
          "height": 617
        },
        "id": "uLRvSXK6MeyK",
        "outputId": "2ffd426e-3604-4d76-a8a5-4fcac9a8155c"
      },
      "outputs": [
        {
          "output_type": "execute_result",
          "data": {
            "text/plain": [
              "date                        0\n",
              "id_order                    0\n",
              "id_user                     0\n",
              "design_name                 0\n",
              "size_area                   0\n",
              "price                       0\n",
              "total_item_cost             0\n",
              "jumlah_tenaga_kerja         0\n",
              "total_biaya_tenaga_kerja    0\n",
              "total_cost                  0\n",
              "revenue                     0\n",
              "status                      0\n",
              "id_gardener                 0\n",
              "name                        0\n",
              "province_name               0\n",
              "city_name                   0\n",
              "district                    0\n",
              "dtype: int64"
            ],
            "text/html": [
              "<div>\n",
              "<style scoped>\n",
              "    .dataframe tbody tr th:only-of-type {\n",
              "        vertical-align: middle;\n",
              "    }\n",
              "\n",
              "    .dataframe tbody tr th {\n",
              "        vertical-align: top;\n",
              "    }\n",
              "\n",
              "    .dataframe thead th {\n",
              "        text-align: right;\n",
              "    }\n",
              "</style>\n",
              "<table border=\"1\" class=\"dataframe\">\n",
              "  <thead>\n",
              "    <tr style=\"text-align: right;\">\n",
              "      <th></th>\n",
              "      <th>0</th>\n",
              "    </tr>\n",
              "  </thead>\n",
              "  <tbody>\n",
              "    <tr>\n",
              "      <th>date</th>\n",
              "      <td>0</td>\n",
              "    </tr>\n",
              "    <tr>\n",
              "      <th>id_order</th>\n",
              "      <td>0</td>\n",
              "    </tr>\n",
              "    <tr>\n",
              "      <th>id_user</th>\n",
              "      <td>0</td>\n",
              "    </tr>\n",
              "    <tr>\n",
              "      <th>design_name</th>\n",
              "      <td>0</td>\n",
              "    </tr>\n",
              "    <tr>\n",
              "      <th>size_area</th>\n",
              "      <td>0</td>\n",
              "    </tr>\n",
              "    <tr>\n",
              "      <th>price</th>\n",
              "      <td>0</td>\n",
              "    </tr>\n",
              "    <tr>\n",
              "      <th>total_item_cost</th>\n",
              "      <td>0</td>\n",
              "    </tr>\n",
              "    <tr>\n",
              "      <th>jumlah_tenaga_kerja</th>\n",
              "      <td>0</td>\n",
              "    </tr>\n",
              "    <tr>\n",
              "      <th>total_biaya_tenaga_kerja</th>\n",
              "      <td>0</td>\n",
              "    </tr>\n",
              "    <tr>\n",
              "      <th>total_cost</th>\n",
              "      <td>0</td>\n",
              "    </tr>\n",
              "    <tr>\n",
              "      <th>revenue</th>\n",
              "      <td>0</td>\n",
              "    </tr>\n",
              "    <tr>\n",
              "      <th>status</th>\n",
              "      <td>0</td>\n",
              "    </tr>\n",
              "    <tr>\n",
              "      <th>id_gardener</th>\n",
              "      <td>0</td>\n",
              "    </tr>\n",
              "    <tr>\n",
              "      <th>name</th>\n",
              "      <td>0</td>\n",
              "    </tr>\n",
              "    <tr>\n",
              "      <th>province_name</th>\n",
              "      <td>0</td>\n",
              "    </tr>\n",
              "    <tr>\n",
              "      <th>city_name</th>\n",
              "      <td>0</td>\n",
              "    </tr>\n",
              "    <tr>\n",
              "      <th>district</th>\n",
              "      <td>0</td>\n",
              "    </tr>\n",
              "  </tbody>\n",
              "</table>\n",
              "</div><br><label><b>dtype:</b> int64</label>"
            ]
          },
          "metadata": {},
          "execution_count": 151
        }
      ],
      "source": [
        "df.isna().sum()"
      ]
    },
    {
      "cell_type": "markdown",
      "metadata": {
        "id": "lLoQ5whMHCQw"
      },
      "source": [
        "### Transformation"
      ]
    },
    {
      "cell_type": "code",
      "execution_count": null,
      "metadata": {
        "id": "lQrAyvFeIew5"
      },
      "outputs": [],
      "source": [
        "province_transform = {\n",
        "    'Daerah Khusus Ibukota Jakarta': 'DKI Jakarta',\n",
        "    'West Java': 'Jawa Barat'\n",
        "    }\n",
        "\n",
        "city_transform = {\n",
        "    'East Jakarta City': 'Jakarta Timur',\n",
        "    'Bekasi Regency': 'Bekasi',\n",
        "    'South Tangerang City': 'Tanggerang Selatan',\n",
        "}"
      ]
    },
    {
      "cell_type": "code",
      "execution_count": null,
      "metadata": {
        "id": "eaY2a9fzG87S"
      },
      "outputs": [],
      "source": [
        "df['province_name'] = df['province_name'].replace(province_transform)\n",
        "df['city_name'] = df['city_name'].replace(city_transform)"
      ]
    },
    {
      "cell_type": "markdown",
      "metadata": {
        "id": "gp-Y6wU38DC1"
      },
      "source": [
        "# Exploratory Data Analysis (EDA)"
      ]
    },
    {
      "cell_type": "markdown",
      "metadata": {
        "id": "MJkaWpXoQCXg"
      },
      "source": [
        "## Descriptive Analysis"
      ]
    },
    {
      "cell_type": "code",
      "execution_count": null,
      "metadata": {
        "colab": {
          "base_uri": "https://localhost:8080/",
          "height": 300
        },
        "id": "Fbw40HqYFyYJ",
        "outputId": "751d9581-9f4b-481d-8cb3-62c44747e7bf"
      },
      "outputs": [
        {
          "output_type": "execute_result",
          "data": {
            "text/plain": [
              "                                date    id_order      id_user   size_area  \\\n",
              "count                            107  107.000000   107.000000  107.000000   \n",
              "mean   2024-08-30 04:15:42.056074752  144.121495  1390.336449   15.333411   \n",
              "min              2024-04-23 00:00:00   65.000000   670.000000    1.000000   \n",
              "25%              2024-07-21 00:00:00  109.000000  1110.500000    6.000000   \n",
              "50%              2024-08-28 00:00:00  148.000000  1377.000000   10.000000   \n",
              "75%              2024-10-13 00:00:00  182.500000  1608.500000   17.500000   \n",
              "max              2024-11-14 00:00:00  211.000000  1878.000000  145.725000   \n",
              "std                              NaN   42.851589   287.261368   18.610515   \n",
              "\n",
              "              price  total_item_cost  jumlah_tenaga_kerja  \\\n",
              "count  1.070000e+02     1.070000e+02           107.000000   \n",
              "mean   1.076089e+07     4.929688e+06             2.822430   \n",
              "min    1.625150e+06     3.570000e+05             2.000000   \n",
              "25%    4.565635e+06     2.105500e+06             2.000000   \n",
              "50%    7.708500e+06     3.350450e+06             2.000000   \n",
              "75%    1.177293e+07     4.861500e+06             3.000000   \n",
              "max    9.741224e+07     5.539690e+07             5.000000   \n",
              "std    1.190295e+07     6.187656e+06             1.026195   \n",
              "\n",
              "       total_biaya_tenaga_kerja    total_cost       revenue  id_gardener  \n",
              "count              1.070000e+02  1.070000e+02  1.070000e+02   107.000000  \n",
              "mean               7.056075e+05  5.635295e+06  5.125591e+06  1015.495327  \n",
              "min                5.000000e+05  1.087700e+06  1.815000e+04     0.000000  \n",
              "25%                5.000000e+05  2.641090e+06  1.779449e+06  1085.000000  \n",
              "50%                5.000000e+05  3.990675e+06  3.676021e+06  1087.000000  \n",
              "75%                7.500000e+05  5.936650e+06  5.977554e+06  1092.500000  \n",
              "max                1.250000e+06  5.589690e+07  4.151534e+07  1361.000000  \n",
              "std                2.565489e+05  6.257959e+06  5.966180e+06   293.538059  "
            ],
            "text/html": [
              "\n",
              "  <div id=\"df-bfae42a3-b096-4675-af5b-543329176005\" class=\"colab-df-container\">\n",
              "    <div>\n",
              "<style scoped>\n",
              "    .dataframe tbody tr th:only-of-type {\n",
              "        vertical-align: middle;\n",
              "    }\n",
              "\n",
              "    .dataframe tbody tr th {\n",
              "        vertical-align: top;\n",
              "    }\n",
              "\n",
              "    .dataframe thead th {\n",
              "        text-align: right;\n",
              "    }\n",
              "</style>\n",
              "<table border=\"1\" class=\"dataframe\">\n",
              "  <thead>\n",
              "    <tr style=\"text-align: right;\">\n",
              "      <th></th>\n",
              "      <th>date</th>\n",
              "      <th>id_order</th>\n",
              "      <th>id_user</th>\n",
              "      <th>size_area</th>\n",
              "      <th>price</th>\n",
              "      <th>total_item_cost</th>\n",
              "      <th>jumlah_tenaga_kerja</th>\n",
              "      <th>total_biaya_tenaga_kerja</th>\n",
              "      <th>total_cost</th>\n",
              "      <th>revenue</th>\n",
              "      <th>id_gardener</th>\n",
              "    </tr>\n",
              "  </thead>\n",
              "  <tbody>\n",
              "    <tr>\n",
              "      <th>count</th>\n",
              "      <td>107</td>\n",
              "      <td>107.000000</td>\n",
              "      <td>107.000000</td>\n",
              "      <td>107.000000</td>\n",
              "      <td>1.070000e+02</td>\n",
              "      <td>1.070000e+02</td>\n",
              "      <td>107.000000</td>\n",
              "      <td>1.070000e+02</td>\n",
              "      <td>1.070000e+02</td>\n",
              "      <td>1.070000e+02</td>\n",
              "      <td>107.000000</td>\n",
              "    </tr>\n",
              "    <tr>\n",
              "      <th>mean</th>\n",
              "      <td>2024-08-30 04:15:42.056074752</td>\n",
              "      <td>144.121495</td>\n",
              "      <td>1390.336449</td>\n",
              "      <td>15.333411</td>\n",
              "      <td>1.076089e+07</td>\n",
              "      <td>4.929688e+06</td>\n",
              "      <td>2.822430</td>\n",
              "      <td>7.056075e+05</td>\n",
              "      <td>5.635295e+06</td>\n",
              "      <td>5.125591e+06</td>\n",
              "      <td>1015.495327</td>\n",
              "    </tr>\n",
              "    <tr>\n",
              "      <th>min</th>\n",
              "      <td>2024-04-23 00:00:00</td>\n",
              "      <td>65.000000</td>\n",
              "      <td>670.000000</td>\n",
              "      <td>1.000000</td>\n",
              "      <td>1.625150e+06</td>\n",
              "      <td>3.570000e+05</td>\n",
              "      <td>2.000000</td>\n",
              "      <td>5.000000e+05</td>\n",
              "      <td>1.087700e+06</td>\n",
              "      <td>1.815000e+04</td>\n",
              "      <td>0.000000</td>\n",
              "    </tr>\n",
              "    <tr>\n",
              "      <th>25%</th>\n",
              "      <td>2024-07-21 00:00:00</td>\n",
              "      <td>109.000000</td>\n",
              "      <td>1110.500000</td>\n",
              "      <td>6.000000</td>\n",
              "      <td>4.565635e+06</td>\n",
              "      <td>2.105500e+06</td>\n",
              "      <td>2.000000</td>\n",
              "      <td>5.000000e+05</td>\n",
              "      <td>2.641090e+06</td>\n",
              "      <td>1.779449e+06</td>\n",
              "      <td>1085.000000</td>\n",
              "    </tr>\n",
              "    <tr>\n",
              "      <th>50%</th>\n",
              "      <td>2024-08-28 00:00:00</td>\n",
              "      <td>148.000000</td>\n",
              "      <td>1377.000000</td>\n",
              "      <td>10.000000</td>\n",
              "      <td>7.708500e+06</td>\n",
              "      <td>3.350450e+06</td>\n",
              "      <td>2.000000</td>\n",
              "      <td>5.000000e+05</td>\n",
              "      <td>3.990675e+06</td>\n",
              "      <td>3.676021e+06</td>\n",
              "      <td>1087.000000</td>\n",
              "    </tr>\n",
              "    <tr>\n",
              "      <th>75%</th>\n",
              "      <td>2024-10-13 00:00:00</td>\n",
              "      <td>182.500000</td>\n",
              "      <td>1608.500000</td>\n",
              "      <td>17.500000</td>\n",
              "      <td>1.177293e+07</td>\n",
              "      <td>4.861500e+06</td>\n",
              "      <td>3.000000</td>\n",
              "      <td>7.500000e+05</td>\n",
              "      <td>5.936650e+06</td>\n",
              "      <td>5.977554e+06</td>\n",
              "      <td>1092.500000</td>\n",
              "    </tr>\n",
              "    <tr>\n",
              "      <th>max</th>\n",
              "      <td>2024-11-14 00:00:00</td>\n",
              "      <td>211.000000</td>\n",
              "      <td>1878.000000</td>\n",
              "      <td>145.725000</td>\n",
              "      <td>9.741224e+07</td>\n",
              "      <td>5.539690e+07</td>\n",
              "      <td>5.000000</td>\n",
              "      <td>1.250000e+06</td>\n",
              "      <td>5.589690e+07</td>\n",
              "      <td>4.151534e+07</td>\n",
              "      <td>1361.000000</td>\n",
              "    </tr>\n",
              "    <tr>\n",
              "      <th>std</th>\n",
              "      <td>NaN</td>\n",
              "      <td>42.851589</td>\n",
              "      <td>287.261368</td>\n",
              "      <td>18.610515</td>\n",
              "      <td>1.190295e+07</td>\n",
              "      <td>6.187656e+06</td>\n",
              "      <td>1.026195</td>\n",
              "      <td>2.565489e+05</td>\n",
              "      <td>6.257959e+06</td>\n",
              "      <td>5.966180e+06</td>\n",
              "      <td>293.538059</td>\n",
              "    </tr>\n",
              "  </tbody>\n",
              "</table>\n",
              "</div>\n",
              "    <div class=\"colab-df-buttons\">\n",
              "\n",
              "  <div class=\"colab-df-container\">\n",
              "    <button class=\"colab-df-convert\" onclick=\"convertToInteractive('df-bfae42a3-b096-4675-af5b-543329176005')\"\n",
              "            title=\"Convert this dataframe to an interactive table.\"\n",
              "            style=\"display:none;\">\n",
              "\n",
              "  <svg xmlns=\"http://www.w3.org/2000/svg\" height=\"24px\" viewBox=\"0 -960 960 960\">\n",
              "    <path d=\"M120-120v-720h720v720H120Zm60-500h600v-160H180v160Zm220 220h160v-160H400v160Zm0 220h160v-160H400v160ZM180-400h160v-160H180v160Zm440 0h160v-160H620v160ZM180-180h160v-160H180v160Zm440 0h160v-160H620v160Z\"/>\n",
              "  </svg>\n",
              "    </button>\n",
              "\n",
              "  <style>\n",
              "    .colab-df-container {\n",
              "      display:flex;\n",
              "      gap: 12px;\n",
              "    }\n",
              "\n",
              "    .colab-df-convert {\n",
              "      background-color: #E8F0FE;\n",
              "      border: none;\n",
              "      border-radius: 50%;\n",
              "      cursor: pointer;\n",
              "      display: none;\n",
              "      fill: #1967D2;\n",
              "      height: 32px;\n",
              "      padding: 0 0 0 0;\n",
              "      width: 32px;\n",
              "    }\n",
              "\n",
              "    .colab-df-convert:hover {\n",
              "      background-color: #E2EBFA;\n",
              "      box-shadow: 0px 1px 2px rgba(60, 64, 67, 0.3), 0px 1px 3px 1px rgba(60, 64, 67, 0.15);\n",
              "      fill: #174EA6;\n",
              "    }\n",
              "\n",
              "    .colab-df-buttons div {\n",
              "      margin-bottom: 4px;\n",
              "    }\n",
              "\n",
              "    [theme=dark] .colab-df-convert {\n",
              "      background-color: #3B4455;\n",
              "      fill: #D2E3FC;\n",
              "    }\n",
              "\n",
              "    [theme=dark] .colab-df-convert:hover {\n",
              "      background-color: #434B5C;\n",
              "      box-shadow: 0px 1px 3px 1px rgba(0, 0, 0, 0.15);\n",
              "      filter: drop-shadow(0px 1px 2px rgba(0, 0, 0, 0.3));\n",
              "      fill: #FFFFFF;\n",
              "    }\n",
              "  </style>\n",
              "\n",
              "    <script>\n",
              "      const buttonEl =\n",
              "        document.querySelector('#df-bfae42a3-b096-4675-af5b-543329176005 button.colab-df-convert');\n",
              "      buttonEl.style.display =\n",
              "        google.colab.kernel.accessAllowed ? 'block' : 'none';\n",
              "\n",
              "      async function convertToInteractive(key) {\n",
              "        const element = document.querySelector('#df-bfae42a3-b096-4675-af5b-543329176005');\n",
              "        const dataTable =\n",
              "          await google.colab.kernel.invokeFunction('convertToInteractive',\n",
              "                                                    [key], {});\n",
              "        if (!dataTable) return;\n",
              "\n",
              "        const docLinkHtml = 'Like what you see? Visit the ' +\n",
              "          '<a target=\"_blank\" href=https://colab.research.google.com/notebooks/data_table.ipynb>data table notebook</a>'\n",
              "          + ' to learn more about interactive tables.';\n",
              "        element.innerHTML = '';\n",
              "        dataTable['output_type'] = 'display_data';\n",
              "        await google.colab.output.renderOutput(dataTable, element);\n",
              "        const docLink = document.createElement('div');\n",
              "        docLink.innerHTML = docLinkHtml;\n",
              "        element.appendChild(docLink);\n",
              "      }\n",
              "    </script>\n",
              "  </div>\n",
              "\n",
              "\n",
              "<div id=\"df-6b60190c-a6bd-4edb-a1f6-0881e8d46ecc\">\n",
              "  <button class=\"colab-df-quickchart\" onclick=\"quickchart('df-6b60190c-a6bd-4edb-a1f6-0881e8d46ecc')\"\n",
              "            title=\"Suggest charts\"\n",
              "            style=\"display:none;\">\n",
              "\n",
              "<svg xmlns=\"http://www.w3.org/2000/svg\" height=\"24px\"viewBox=\"0 0 24 24\"\n",
              "     width=\"24px\">\n",
              "    <g>\n",
              "        <path d=\"M19 3H5c-1.1 0-2 .9-2 2v14c0 1.1.9 2 2 2h14c1.1 0 2-.9 2-2V5c0-1.1-.9-2-2-2zM9 17H7v-7h2v7zm4 0h-2V7h2v10zm4 0h-2v-4h2v4z\"/>\n",
              "    </g>\n",
              "</svg>\n",
              "  </button>\n",
              "\n",
              "<style>\n",
              "  .colab-df-quickchart {\n",
              "      --bg-color: #E8F0FE;\n",
              "      --fill-color: #1967D2;\n",
              "      --hover-bg-color: #E2EBFA;\n",
              "      --hover-fill-color: #174EA6;\n",
              "      --disabled-fill-color: #AAA;\n",
              "      --disabled-bg-color: #DDD;\n",
              "  }\n",
              "\n",
              "  [theme=dark] .colab-df-quickchart {\n",
              "      --bg-color: #3B4455;\n",
              "      --fill-color: #D2E3FC;\n",
              "      --hover-bg-color: #434B5C;\n",
              "      --hover-fill-color: #FFFFFF;\n",
              "      --disabled-bg-color: #3B4455;\n",
              "      --disabled-fill-color: #666;\n",
              "  }\n",
              "\n",
              "  .colab-df-quickchart {\n",
              "    background-color: var(--bg-color);\n",
              "    border: none;\n",
              "    border-radius: 50%;\n",
              "    cursor: pointer;\n",
              "    display: none;\n",
              "    fill: var(--fill-color);\n",
              "    height: 32px;\n",
              "    padding: 0;\n",
              "    width: 32px;\n",
              "  }\n",
              "\n",
              "  .colab-df-quickchart:hover {\n",
              "    background-color: var(--hover-bg-color);\n",
              "    box-shadow: 0 1px 2px rgba(60, 64, 67, 0.3), 0 1px 3px 1px rgba(60, 64, 67, 0.15);\n",
              "    fill: var(--button-hover-fill-color);\n",
              "  }\n",
              "\n",
              "  .colab-df-quickchart-complete:disabled,\n",
              "  .colab-df-quickchart-complete:disabled:hover {\n",
              "    background-color: var(--disabled-bg-color);\n",
              "    fill: var(--disabled-fill-color);\n",
              "    box-shadow: none;\n",
              "  }\n",
              "\n",
              "  .colab-df-spinner {\n",
              "    border: 2px solid var(--fill-color);\n",
              "    border-color: transparent;\n",
              "    border-bottom-color: var(--fill-color);\n",
              "    animation:\n",
              "      spin 1s steps(1) infinite;\n",
              "  }\n",
              "\n",
              "  @keyframes spin {\n",
              "    0% {\n",
              "      border-color: transparent;\n",
              "      border-bottom-color: var(--fill-color);\n",
              "      border-left-color: var(--fill-color);\n",
              "    }\n",
              "    20% {\n",
              "      border-color: transparent;\n",
              "      border-left-color: var(--fill-color);\n",
              "      border-top-color: var(--fill-color);\n",
              "    }\n",
              "    30% {\n",
              "      border-color: transparent;\n",
              "      border-left-color: var(--fill-color);\n",
              "      border-top-color: var(--fill-color);\n",
              "      border-right-color: var(--fill-color);\n",
              "    }\n",
              "    40% {\n",
              "      border-color: transparent;\n",
              "      border-right-color: var(--fill-color);\n",
              "      border-top-color: var(--fill-color);\n",
              "    }\n",
              "    60% {\n",
              "      border-color: transparent;\n",
              "      border-right-color: var(--fill-color);\n",
              "    }\n",
              "    80% {\n",
              "      border-color: transparent;\n",
              "      border-right-color: var(--fill-color);\n",
              "      border-bottom-color: var(--fill-color);\n",
              "    }\n",
              "    90% {\n",
              "      border-color: transparent;\n",
              "      border-bottom-color: var(--fill-color);\n",
              "    }\n",
              "  }\n",
              "</style>\n",
              "\n",
              "  <script>\n",
              "    async function quickchart(key) {\n",
              "      const quickchartButtonEl =\n",
              "        document.querySelector('#' + key + ' button');\n",
              "      quickchartButtonEl.disabled = true;  // To prevent multiple clicks.\n",
              "      quickchartButtonEl.classList.add('colab-df-spinner');\n",
              "      try {\n",
              "        const charts = await google.colab.kernel.invokeFunction(\n",
              "            'suggestCharts', [key], {});\n",
              "      } catch (error) {\n",
              "        console.error('Error during call to suggestCharts:', error);\n",
              "      }\n",
              "      quickchartButtonEl.classList.remove('colab-df-spinner');\n",
              "      quickchartButtonEl.classList.add('colab-df-quickchart-complete');\n",
              "    }\n",
              "    (() => {\n",
              "      let quickchartButtonEl =\n",
              "        document.querySelector('#df-6b60190c-a6bd-4edb-a1f6-0881e8d46ecc button');\n",
              "      quickchartButtonEl.style.display =\n",
              "        google.colab.kernel.accessAllowed ? 'block' : 'none';\n",
              "    })();\n",
              "  </script>\n",
              "</div>\n",
              "\n",
              "    </div>\n",
              "  </div>\n"
            ],
            "application/vnd.google.colaboratory.intrinsic+json": {
              "type": "dataframe",
              "summary": "{\n  \"name\": \"df\",\n  \"rows\": 8,\n  \"fields\": [\n    {\n      \"column\": \"date\",\n      \"properties\": {\n        \"dtype\": \"date\",\n        \"min\": \"1970-01-01 00:00:00.000000107\",\n        \"max\": \"2024-11-14 00:00:00\",\n        \"num_unique_values\": 7,\n        \"samples\": [\n          \"107\",\n          \"2024-08-30 04:15:42.056074752\",\n          \"2024-10-13 00:00:00\"\n        ],\n        \"semantic_type\": \"\",\n        \"description\": \"\"\n      }\n    },\n    {\n      \"column\": \"id_order\",\n      \"properties\": {\n        \"dtype\": \"number\",\n        \"std\": 56.71233877885773,\n        \"min\": 42.85158905496219,\n        \"max\": 211.0,\n        \"num_unique_values\": 8,\n        \"samples\": [\n          144.1214953271028,\n          182.5,\n          107.0\n        ],\n        \"semantic_type\": \"\",\n        \"description\": \"\"\n      }\n    },\n    {\n      \"column\": \"id_user\",\n      \"properties\": {\n        \"dtype\": \"number\",\n        \"std\": 636.8719752827209,\n        \"min\": 107.0,\n        \"max\": 1878.0,\n        \"num_unique_values\": 8,\n        \"samples\": [\n          1390.3364485981308,\n          1608.5,\n          107.0\n        ],\n        \"semantic_type\": \"\",\n        \"description\": \"\"\n      }\n    },\n    {\n      \"column\": \"size_area\",\n      \"properties\": {\n        \"dtype\": \"number\",\n        \"std\": 54.53151841680484,\n        \"min\": 1.0,\n        \"max\": 145.725,\n        \"num_unique_values\": 8,\n        \"samples\": [\n          15.333411214953271,\n          17.5,\n          107.0\n        ],\n        \"semantic_type\": \"\",\n        \"description\": \"\"\n      }\n    },\n    {\n      \"column\": \"price\",\n      \"properties\": {\n        \"dtype\": \"number\",\n        \"std\": 32321611.341784794,\n        \"min\": 107.0,\n        \"max\": 97412240.0,\n        \"num_unique_values\": 8,\n        \"samples\": [\n          10760885.897196261,\n          11772929.5,\n          107.0\n        ],\n        \"semantic_type\": \"\",\n        \"description\": \"\"\n      }\n    },\n    {\n      \"column\": \"total_item_cost\",\n      \"properties\": {\n        \"dtype\": \"number\",\n        \"std\": 18616665.927836634,\n        \"min\": 107.0,\n        \"max\": 55396899.0,\n        \"num_unique_values\": 8,\n        \"samples\": [\n          4929687.803738317,\n          4861500.0,\n          107.0\n        ],\n        \"semantic_type\": \"\",\n        \"description\": \"\"\n      }\n    },\n    {\n      \"column\": \"jumlah_tenaga_kerja\",\n      \"properties\": {\n        \"dtype\": \"number\",\n        \"std\": 36.94710849233558,\n        \"min\": 1.0261954291068551,\n        \"max\": 107.0,\n        \"num_unique_values\": 6,\n        \"samples\": [\n          107.0,\n          2.822429906542056,\n          1.0261954291068551\n        ],\n        \"semantic_type\": \"\",\n        \"description\": \"\"\n      }\n    },\n    {\n      \"column\": \"total_biaya_tenaga_kerja\",\n      \"properties\": {\n        \"dtype\": \"number\",\n        \"std\": 368340.8710605943,\n        \"min\": 107.0,\n        \"max\": 1250000.0,\n        \"num_unique_values\": 6,\n        \"samples\": [\n          107.0,\n          705607.4766355141,\n          256548.85727671377\n        ],\n        \"semantic_type\": \"\",\n        \"description\": \"\"\n      }\n    },\n    {\n      \"column\": \"total_cost\",\n      \"properties\": {\n        \"dtype\": \"number\",\n        \"std\": 18614589.76937342,\n        \"min\": 107.0,\n        \"max\": 55896899.0,\n        \"num_unique_values\": 8,\n        \"samples\": [\n          5635295.280373832,\n          5936650.0,\n          107.0\n        ],\n        \"semantic_type\": \"\",\n        \"description\": \"\"\n      }\n    },\n    {\n      \"column\": \"revenue\",\n      \"properties\": {\n        \"dtype\": \"number\",\n        \"std\": 13757423.266921869,\n        \"min\": 107.0,\n        \"max\": 41515341.0,\n        \"num_unique_values\": 8,\n        \"samples\": [\n          5125590.61682243,\n          5977553.5,\n          107.0\n        ],\n        \"semantic_type\": \"\",\n        \"description\": \"\"\n      }\n    },\n    {\n      \"column\": \"id_gardener\",\n      \"properties\": {\n        \"dtype\": \"number\",\n        \"std\": 530.6330309460933,\n        \"min\": 0.0,\n        \"max\": 1361.0,\n        \"num_unique_values\": 8,\n        \"samples\": [\n          1015.4953271028037,\n          1092.5,\n          107.0\n        ],\n        \"semantic_type\": \"\",\n        \"description\": \"\"\n      }\n    }\n  ]\n}"
            }
          },
          "metadata": {},
          "execution_count": 154
        }
      ],
      "source": [
        "df.describe()"
      ]
    },
    {
      "cell_type": "code",
      "execution_count": null,
      "metadata": {
        "colab": {
          "base_uri": "https://localhost:8080/",
          "height": 398
        },
        "id": "aF7qguPKPjk2",
        "outputId": "5f0083c7-e925-48c9-f185-8fff2c5429ce"
      },
      "outputs": [
        {
          "output_type": "execute_result",
          "data": {
            "text/plain": [
              "id_order                    1.441215e+02\n",
              "id_user                     1.390336e+03\n",
              "size_area                   1.533341e+01\n",
              "price                       1.076089e+07\n",
              "total_item_cost             4.929688e+06\n",
              "jumlah_tenaga_kerja         2.822430e+00\n",
              "total_biaya_tenaga_kerja    7.056075e+05\n",
              "total_cost                  5.635295e+06\n",
              "revenue                     5.125591e+06\n",
              "id_gardener                 1.015495e+03\n",
              "dtype: float64"
            ],
            "text/html": [
              "<div>\n",
              "<style scoped>\n",
              "    .dataframe tbody tr th:only-of-type {\n",
              "        vertical-align: middle;\n",
              "    }\n",
              "\n",
              "    .dataframe tbody tr th {\n",
              "        vertical-align: top;\n",
              "    }\n",
              "\n",
              "    .dataframe thead th {\n",
              "        text-align: right;\n",
              "    }\n",
              "</style>\n",
              "<table border=\"1\" class=\"dataframe\">\n",
              "  <thead>\n",
              "    <tr style=\"text-align: right;\">\n",
              "      <th></th>\n",
              "      <th>0</th>\n",
              "    </tr>\n",
              "  </thead>\n",
              "  <tbody>\n",
              "    <tr>\n",
              "      <th>id_order</th>\n",
              "      <td>1.441215e+02</td>\n",
              "    </tr>\n",
              "    <tr>\n",
              "      <th>id_user</th>\n",
              "      <td>1.390336e+03</td>\n",
              "    </tr>\n",
              "    <tr>\n",
              "      <th>size_area</th>\n",
              "      <td>1.533341e+01</td>\n",
              "    </tr>\n",
              "    <tr>\n",
              "      <th>price</th>\n",
              "      <td>1.076089e+07</td>\n",
              "    </tr>\n",
              "    <tr>\n",
              "      <th>total_item_cost</th>\n",
              "      <td>4.929688e+06</td>\n",
              "    </tr>\n",
              "    <tr>\n",
              "      <th>jumlah_tenaga_kerja</th>\n",
              "      <td>2.822430e+00</td>\n",
              "    </tr>\n",
              "    <tr>\n",
              "      <th>total_biaya_tenaga_kerja</th>\n",
              "      <td>7.056075e+05</td>\n",
              "    </tr>\n",
              "    <tr>\n",
              "      <th>total_cost</th>\n",
              "      <td>5.635295e+06</td>\n",
              "    </tr>\n",
              "    <tr>\n",
              "      <th>revenue</th>\n",
              "      <td>5.125591e+06</td>\n",
              "    </tr>\n",
              "    <tr>\n",
              "      <th>id_gardener</th>\n",
              "      <td>1.015495e+03</td>\n",
              "    </tr>\n",
              "  </tbody>\n",
              "</table>\n",
              "</div><br><label><b>dtype:</b> float64</label>"
            ]
          },
          "metadata": {},
          "execution_count": 155
        }
      ],
      "source": [
        "df.select_dtypes(['number']).mean()"
      ]
    },
    {
      "cell_type": "code",
      "execution_count": null,
      "metadata": {
        "colab": {
          "base_uri": "https://localhost:8080/",
          "height": 398
        },
        "id": "X23QqPHyPpJ4",
        "outputId": "43fb7596-c6b5-447e-9426-d0a1fcfe6c50"
      },
      "outputs": [
        {
          "output_type": "execute_result",
          "data": {
            "text/plain": [
              "id_order                        148.0\n",
              "id_user                        1377.0\n",
              "size_area                        10.0\n",
              "price                       7708500.0\n",
              "total_item_cost             3350450.0\n",
              "jumlah_tenaga_kerja               2.0\n",
              "total_biaya_tenaga_kerja     500000.0\n",
              "total_cost                  3990675.0\n",
              "revenue                     3676021.0\n",
              "id_gardener                    1087.0\n",
              "dtype: float64"
            ],
            "text/html": [
              "<div>\n",
              "<style scoped>\n",
              "    .dataframe tbody tr th:only-of-type {\n",
              "        vertical-align: middle;\n",
              "    }\n",
              "\n",
              "    .dataframe tbody tr th {\n",
              "        vertical-align: top;\n",
              "    }\n",
              "\n",
              "    .dataframe thead th {\n",
              "        text-align: right;\n",
              "    }\n",
              "</style>\n",
              "<table border=\"1\" class=\"dataframe\">\n",
              "  <thead>\n",
              "    <tr style=\"text-align: right;\">\n",
              "      <th></th>\n",
              "      <th>0</th>\n",
              "    </tr>\n",
              "  </thead>\n",
              "  <tbody>\n",
              "    <tr>\n",
              "      <th>id_order</th>\n",
              "      <td>148.0</td>\n",
              "    </tr>\n",
              "    <tr>\n",
              "      <th>id_user</th>\n",
              "      <td>1377.0</td>\n",
              "    </tr>\n",
              "    <tr>\n",
              "      <th>size_area</th>\n",
              "      <td>10.0</td>\n",
              "    </tr>\n",
              "    <tr>\n",
              "      <th>price</th>\n",
              "      <td>7708500.0</td>\n",
              "    </tr>\n",
              "    <tr>\n",
              "      <th>total_item_cost</th>\n",
              "      <td>3350450.0</td>\n",
              "    </tr>\n",
              "    <tr>\n",
              "      <th>jumlah_tenaga_kerja</th>\n",
              "      <td>2.0</td>\n",
              "    </tr>\n",
              "    <tr>\n",
              "      <th>total_biaya_tenaga_kerja</th>\n",
              "      <td>500000.0</td>\n",
              "    </tr>\n",
              "    <tr>\n",
              "      <th>total_cost</th>\n",
              "      <td>3990675.0</td>\n",
              "    </tr>\n",
              "    <tr>\n",
              "      <th>revenue</th>\n",
              "      <td>3676021.0</td>\n",
              "    </tr>\n",
              "    <tr>\n",
              "      <th>id_gardener</th>\n",
              "      <td>1087.0</td>\n",
              "    </tr>\n",
              "  </tbody>\n",
              "</table>\n",
              "</div><br><label><b>dtype:</b> float64</label>"
            ]
          },
          "metadata": {},
          "execution_count": 156
        }
      ],
      "source": [
        "df.select_dtypes(['number']).median()"
      ]
    },
    {
      "cell_type": "code",
      "execution_count": null,
      "metadata": {
        "colab": {
          "base_uri": "https://localhost:8080/",
          "height": 424
        },
        "id": "AeLiU0xZPtcQ",
        "outputId": "18a9c38e-1c2b-4e46-86d7-bc9548fe7e91"
      },
      "outputs": [
        {
          "output_type": "execute_result",
          "data": {
            "text/plain": [
              "     id_order  id_user  size_area      price  total_item_cost  \\\n",
              "0          65   1842.0       11.0  8912900.0        4218600.0   \n",
              "1          66      NaN        NaN        NaN              NaN   \n",
              "2          70      NaN        NaN        NaN              NaN   \n",
              "3          72      NaN        NaN        NaN              NaN   \n",
              "4          74      NaN        NaN        NaN              NaN   \n",
              "..        ...      ...        ...        ...              ...   \n",
              "102       207      NaN        NaN        NaN              NaN   \n",
              "103       208      NaN        NaN        NaN              NaN   \n",
              "104       209      NaN        NaN        NaN              NaN   \n",
              "105       210      NaN        NaN        NaN              NaN   \n",
              "106       211      NaN        NaN        NaN              NaN   \n",
              "\n",
              "     jumlah_tenaga_kerja  total_biaya_tenaga_kerja  total_cost    revenue  \\\n",
              "0                    2.0                  500000.0   4968600.0  3944300.0   \n",
              "1                    NaN                       NaN         NaN        NaN   \n",
              "2                    NaN                       NaN         NaN        NaN   \n",
              "3                    NaN                       NaN         NaN        NaN   \n",
              "4                    NaN                       NaN         NaN        NaN   \n",
              "..                   ...                       ...         ...        ...   \n",
              "102                  NaN                       NaN         NaN        NaN   \n",
              "103                  NaN                       NaN         NaN        NaN   \n",
              "104                  NaN                       NaN         NaN        NaN   \n",
              "105                  NaN                       NaN         NaN        NaN   \n",
              "106                  NaN                       NaN         NaN        NaN   \n",
              "\n",
              "     id_gardener  \n",
              "0         1085.0  \n",
              "1            NaN  \n",
              "2            NaN  \n",
              "3            NaN  \n",
              "4            NaN  \n",
              "..           ...  \n",
              "102          NaN  \n",
              "103          NaN  \n",
              "104          NaN  \n",
              "105          NaN  \n",
              "106          NaN  \n",
              "\n",
              "[107 rows x 10 columns]"
            ],
            "text/html": [
              "\n",
              "  <div id=\"df-62d1a893-c24d-4c24-bb02-c98bd1fda734\" class=\"colab-df-container\">\n",
              "    <div>\n",
              "<style scoped>\n",
              "    .dataframe tbody tr th:only-of-type {\n",
              "        vertical-align: middle;\n",
              "    }\n",
              "\n",
              "    .dataframe tbody tr th {\n",
              "        vertical-align: top;\n",
              "    }\n",
              "\n",
              "    .dataframe thead th {\n",
              "        text-align: right;\n",
              "    }\n",
              "</style>\n",
              "<table border=\"1\" class=\"dataframe\">\n",
              "  <thead>\n",
              "    <tr style=\"text-align: right;\">\n",
              "      <th></th>\n",
              "      <th>id_order</th>\n",
              "      <th>id_user</th>\n",
              "      <th>size_area</th>\n",
              "      <th>price</th>\n",
              "      <th>total_item_cost</th>\n",
              "      <th>jumlah_tenaga_kerja</th>\n",
              "      <th>total_biaya_tenaga_kerja</th>\n",
              "      <th>total_cost</th>\n",
              "      <th>revenue</th>\n",
              "      <th>id_gardener</th>\n",
              "    </tr>\n",
              "  </thead>\n",
              "  <tbody>\n",
              "    <tr>\n",
              "      <th>0</th>\n",
              "      <td>65</td>\n",
              "      <td>1842.0</td>\n",
              "      <td>11.0</td>\n",
              "      <td>8912900.0</td>\n",
              "      <td>4218600.0</td>\n",
              "      <td>2.0</td>\n",
              "      <td>500000.0</td>\n",
              "      <td>4968600.0</td>\n",
              "      <td>3944300.0</td>\n",
              "      <td>1085.0</td>\n",
              "    </tr>\n",
              "    <tr>\n",
              "      <th>1</th>\n",
              "      <td>66</td>\n",
              "      <td>NaN</td>\n",
              "      <td>NaN</td>\n",
              "      <td>NaN</td>\n",
              "      <td>NaN</td>\n",
              "      <td>NaN</td>\n",
              "      <td>NaN</td>\n",
              "      <td>NaN</td>\n",
              "      <td>NaN</td>\n",
              "      <td>NaN</td>\n",
              "    </tr>\n",
              "    <tr>\n",
              "      <th>2</th>\n",
              "      <td>70</td>\n",
              "      <td>NaN</td>\n",
              "      <td>NaN</td>\n",
              "      <td>NaN</td>\n",
              "      <td>NaN</td>\n",
              "      <td>NaN</td>\n",
              "      <td>NaN</td>\n",
              "      <td>NaN</td>\n",
              "      <td>NaN</td>\n",
              "      <td>NaN</td>\n",
              "    </tr>\n",
              "    <tr>\n",
              "      <th>3</th>\n",
              "      <td>72</td>\n",
              "      <td>NaN</td>\n",
              "      <td>NaN</td>\n",
              "      <td>NaN</td>\n",
              "      <td>NaN</td>\n",
              "      <td>NaN</td>\n",
              "      <td>NaN</td>\n",
              "      <td>NaN</td>\n",
              "      <td>NaN</td>\n",
              "      <td>NaN</td>\n",
              "    </tr>\n",
              "    <tr>\n",
              "      <th>4</th>\n",
              "      <td>74</td>\n",
              "      <td>NaN</td>\n",
              "      <td>NaN</td>\n",
              "      <td>NaN</td>\n",
              "      <td>NaN</td>\n",
              "      <td>NaN</td>\n",
              "      <td>NaN</td>\n",
              "      <td>NaN</td>\n",
              "      <td>NaN</td>\n",
              "      <td>NaN</td>\n",
              "    </tr>\n",
              "    <tr>\n",
              "      <th>...</th>\n",
              "      <td>...</td>\n",
              "      <td>...</td>\n",
              "      <td>...</td>\n",
              "      <td>...</td>\n",
              "      <td>...</td>\n",
              "      <td>...</td>\n",
              "      <td>...</td>\n",
              "      <td>...</td>\n",
              "      <td>...</td>\n",
              "      <td>...</td>\n",
              "    </tr>\n",
              "    <tr>\n",
              "      <th>102</th>\n",
              "      <td>207</td>\n",
              "      <td>NaN</td>\n",
              "      <td>NaN</td>\n",
              "      <td>NaN</td>\n",
              "      <td>NaN</td>\n",
              "      <td>NaN</td>\n",
              "      <td>NaN</td>\n",
              "      <td>NaN</td>\n",
              "      <td>NaN</td>\n",
              "      <td>NaN</td>\n",
              "    </tr>\n",
              "    <tr>\n",
              "      <th>103</th>\n",
              "      <td>208</td>\n",
              "      <td>NaN</td>\n",
              "      <td>NaN</td>\n",
              "      <td>NaN</td>\n",
              "      <td>NaN</td>\n",
              "      <td>NaN</td>\n",
              "      <td>NaN</td>\n",
              "      <td>NaN</td>\n",
              "      <td>NaN</td>\n",
              "      <td>NaN</td>\n",
              "    </tr>\n",
              "    <tr>\n",
              "      <th>104</th>\n",
              "      <td>209</td>\n",
              "      <td>NaN</td>\n",
              "      <td>NaN</td>\n",
              "      <td>NaN</td>\n",
              "      <td>NaN</td>\n",
              "      <td>NaN</td>\n",
              "      <td>NaN</td>\n",
              "      <td>NaN</td>\n",
              "      <td>NaN</td>\n",
              "      <td>NaN</td>\n",
              "    </tr>\n",
              "    <tr>\n",
              "      <th>105</th>\n",
              "      <td>210</td>\n",
              "      <td>NaN</td>\n",
              "      <td>NaN</td>\n",
              "      <td>NaN</td>\n",
              "      <td>NaN</td>\n",
              "      <td>NaN</td>\n",
              "      <td>NaN</td>\n",
              "      <td>NaN</td>\n",
              "      <td>NaN</td>\n",
              "      <td>NaN</td>\n",
              "    </tr>\n",
              "    <tr>\n",
              "      <th>106</th>\n",
              "      <td>211</td>\n",
              "      <td>NaN</td>\n",
              "      <td>NaN</td>\n",
              "      <td>NaN</td>\n",
              "      <td>NaN</td>\n",
              "      <td>NaN</td>\n",
              "      <td>NaN</td>\n",
              "      <td>NaN</td>\n",
              "      <td>NaN</td>\n",
              "      <td>NaN</td>\n",
              "    </tr>\n",
              "  </tbody>\n",
              "</table>\n",
              "<p>107 rows × 10 columns</p>\n",
              "</div>\n",
              "    <div class=\"colab-df-buttons\">\n",
              "\n",
              "  <div class=\"colab-df-container\">\n",
              "    <button class=\"colab-df-convert\" onclick=\"convertToInteractive('df-62d1a893-c24d-4c24-bb02-c98bd1fda734')\"\n",
              "            title=\"Convert this dataframe to an interactive table.\"\n",
              "            style=\"display:none;\">\n",
              "\n",
              "  <svg xmlns=\"http://www.w3.org/2000/svg\" height=\"24px\" viewBox=\"0 -960 960 960\">\n",
              "    <path d=\"M120-120v-720h720v720H120Zm60-500h600v-160H180v160Zm220 220h160v-160H400v160Zm0 220h160v-160H400v160ZM180-400h160v-160H180v160Zm440 0h160v-160H620v160ZM180-180h160v-160H180v160Zm440 0h160v-160H620v160Z\"/>\n",
              "  </svg>\n",
              "    </button>\n",
              "\n",
              "  <style>\n",
              "    .colab-df-container {\n",
              "      display:flex;\n",
              "      gap: 12px;\n",
              "    }\n",
              "\n",
              "    .colab-df-convert {\n",
              "      background-color: #E8F0FE;\n",
              "      border: none;\n",
              "      border-radius: 50%;\n",
              "      cursor: pointer;\n",
              "      display: none;\n",
              "      fill: #1967D2;\n",
              "      height: 32px;\n",
              "      padding: 0 0 0 0;\n",
              "      width: 32px;\n",
              "    }\n",
              "\n",
              "    .colab-df-convert:hover {\n",
              "      background-color: #E2EBFA;\n",
              "      box-shadow: 0px 1px 2px rgba(60, 64, 67, 0.3), 0px 1px 3px 1px rgba(60, 64, 67, 0.15);\n",
              "      fill: #174EA6;\n",
              "    }\n",
              "\n",
              "    .colab-df-buttons div {\n",
              "      margin-bottom: 4px;\n",
              "    }\n",
              "\n",
              "    [theme=dark] .colab-df-convert {\n",
              "      background-color: #3B4455;\n",
              "      fill: #D2E3FC;\n",
              "    }\n",
              "\n",
              "    [theme=dark] .colab-df-convert:hover {\n",
              "      background-color: #434B5C;\n",
              "      box-shadow: 0px 1px 3px 1px rgba(0, 0, 0, 0.15);\n",
              "      filter: drop-shadow(0px 1px 2px rgba(0, 0, 0, 0.3));\n",
              "      fill: #FFFFFF;\n",
              "    }\n",
              "  </style>\n",
              "\n",
              "    <script>\n",
              "      const buttonEl =\n",
              "        document.querySelector('#df-62d1a893-c24d-4c24-bb02-c98bd1fda734 button.colab-df-convert');\n",
              "      buttonEl.style.display =\n",
              "        google.colab.kernel.accessAllowed ? 'block' : 'none';\n",
              "\n",
              "      async function convertToInteractive(key) {\n",
              "        const element = document.querySelector('#df-62d1a893-c24d-4c24-bb02-c98bd1fda734');\n",
              "        const dataTable =\n",
              "          await google.colab.kernel.invokeFunction('convertToInteractive',\n",
              "                                                    [key], {});\n",
              "        if (!dataTable) return;\n",
              "\n",
              "        const docLinkHtml = 'Like what you see? Visit the ' +\n",
              "          '<a target=\"_blank\" href=https://colab.research.google.com/notebooks/data_table.ipynb>data table notebook</a>'\n",
              "          + ' to learn more about interactive tables.';\n",
              "        element.innerHTML = '';\n",
              "        dataTable['output_type'] = 'display_data';\n",
              "        await google.colab.output.renderOutput(dataTable, element);\n",
              "        const docLink = document.createElement('div');\n",
              "        docLink.innerHTML = docLinkHtml;\n",
              "        element.appendChild(docLink);\n",
              "      }\n",
              "    </script>\n",
              "  </div>\n",
              "\n",
              "\n",
              "<div id=\"df-adb2bd91-a2a9-4bf5-833a-56629f56d778\">\n",
              "  <button class=\"colab-df-quickchart\" onclick=\"quickchart('df-adb2bd91-a2a9-4bf5-833a-56629f56d778')\"\n",
              "            title=\"Suggest charts\"\n",
              "            style=\"display:none;\">\n",
              "\n",
              "<svg xmlns=\"http://www.w3.org/2000/svg\" height=\"24px\"viewBox=\"0 0 24 24\"\n",
              "     width=\"24px\">\n",
              "    <g>\n",
              "        <path d=\"M19 3H5c-1.1 0-2 .9-2 2v14c0 1.1.9 2 2 2h14c1.1 0 2-.9 2-2V5c0-1.1-.9-2-2-2zM9 17H7v-7h2v7zm4 0h-2V7h2v10zm4 0h-2v-4h2v4z\"/>\n",
              "    </g>\n",
              "</svg>\n",
              "  </button>\n",
              "\n",
              "<style>\n",
              "  .colab-df-quickchart {\n",
              "      --bg-color: #E8F0FE;\n",
              "      --fill-color: #1967D2;\n",
              "      --hover-bg-color: #E2EBFA;\n",
              "      --hover-fill-color: #174EA6;\n",
              "      --disabled-fill-color: #AAA;\n",
              "      --disabled-bg-color: #DDD;\n",
              "  }\n",
              "\n",
              "  [theme=dark] .colab-df-quickchart {\n",
              "      --bg-color: #3B4455;\n",
              "      --fill-color: #D2E3FC;\n",
              "      --hover-bg-color: #434B5C;\n",
              "      --hover-fill-color: #FFFFFF;\n",
              "      --disabled-bg-color: #3B4455;\n",
              "      --disabled-fill-color: #666;\n",
              "  }\n",
              "\n",
              "  .colab-df-quickchart {\n",
              "    background-color: var(--bg-color);\n",
              "    border: none;\n",
              "    border-radius: 50%;\n",
              "    cursor: pointer;\n",
              "    display: none;\n",
              "    fill: var(--fill-color);\n",
              "    height: 32px;\n",
              "    padding: 0;\n",
              "    width: 32px;\n",
              "  }\n",
              "\n",
              "  .colab-df-quickchart:hover {\n",
              "    background-color: var(--hover-bg-color);\n",
              "    box-shadow: 0 1px 2px rgba(60, 64, 67, 0.3), 0 1px 3px 1px rgba(60, 64, 67, 0.15);\n",
              "    fill: var(--button-hover-fill-color);\n",
              "  }\n",
              "\n",
              "  .colab-df-quickchart-complete:disabled,\n",
              "  .colab-df-quickchart-complete:disabled:hover {\n",
              "    background-color: var(--disabled-bg-color);\n",
              "    fill: var(--disabled-fill-color);\n",
              "    box-shadow: none;\n",
              "  }\n",
              "\n",
              "  .colab-df-spinner {\n",
              "    border: 2px solid var(--fill-color);\n",
              "    border-color: transparent;\n",
              "    border-bottom-color: var(--fill-color);\n",
              "    animation:\n",
              "      spin 1s steps(1) infinite;\n",
              "  }\n",
              "\n",
              "  @keyframes spin {\n",
              "    0% {\n",
              "      border-color: transparent;\n",
              "      border-bottom-color: var(--fill-color);\n",
              "      border-left-color: var(--fill-color);\n",
              "    }\n",
              "    20% {\n",
              "      border-color: transparent;\n",
              "      border-left-color: var(--fill-color);\n",
              "      border-top-color: var(--fill-color);\n",
              "    }\n",
              "    30% {\n",
              "      border-color: transparent;\n",
              "      border-left-color: var(--fill-color);\n",
              "      border-top-color: var(--fill-color);\n",
              "      border-right-color: var(--fill-color);\n",
              "    }\n",
              "    40% {\n",
              "      border-color: transparent;\n",
              "      border-right-color: var(--fill-color);\n",
              "      border-top-color: var(--fill-color);\n",
              "    }\n",
              "    60% {\n",
              "      border-color: transparent;\n",
              "      border-right-color: var(--fill-color);\n",
              "    }\n",
              "    80% {\n",
              "      border-color: transparent;\n",
              "      border-right-color: var(--fill-color);\n",
              "      border-bottom-color: var(--fill-color);\n",
              "    }\n",
              "    90% {\n",
              "      border-color: transparent;\n",
              "      border-bottom-color: var(--fill-color);\n",
              "    }\n",
              "  }\n",
              "</style>\n",
              "\n",
              "  <script>\n",
              "    async function quickchart(key) {\n",
              "      const quickchartButtonEl =\n",
              "        document.querySelector('#' + key + ' button');\n",
              "      quickchartButtonEl.disabled = true;  // To prevent multiple clicks.\n",
              "      quickchartButtonEl.classList.add('colab-df-spinner');\n",
              "      try {\n",
              "        const charts = await google.colab.kernel.invokeFunction(\n",
              "            'suggestCharts', [key], {});\n",
              "      } catch (error) {\n",
              "        console.error('Error during call to suggestCharts:', error);\n",
              "      }\n",
              "      quickchartButtonEl.classList.remove('colab-df-spinner');\n",
              "      quickchartButtonEl.classList.add('colab-df-quickchart-complete');\n",
              "    }\n",
              "    (() => {\n",
              "      let quickchartButtonEl =\n",
              "        document.querySelector('#df-adb2bd91-a2a9-4bf5-833a-56629f56d778 button');\n",
              "      quickchartButtonEl.style.display =\n",
              "        google.colab.kernel.accessAllowed ? 'block' : 'none';\n",
              "    })();\n",
              "  </script>\n",
              "</div>\n",
              "\n",
              "    </div>\n",
              "  </div>\n"
            ],
            "application/vnd.google.colaboratory.intrinsic+json": {
              "type": "dataframe",
              "summary": "{\n  \"name\": \"df\",\n  \"rows\": 107,\n  \"fields\": [\n    {\n      \"column\": \"id_order\",\n      \"properties\": {\n        \"dtype\": \"number\",\n        \"std\": 42,\n        \"min\": 65,\n        \"max\": 211,\n        \"num_unique_values\": 107,\n        \"samples\": [\n          174,\n          80,\n          74\n        ],\n        \"semantic_type\": \"\",\n        \"description\": \"\"\n      }\n    },\n    {\n      \"column\": \"id_user\",\n      \"properties\": {\n        \"dtype\": \"number\",\n        \"std\": null,\n        \"min\": 1842.0,\n        \"max\": 1842.0,\n        \"num_unique_values\": 1,\n        \"samples\": [\n          1842.0\n        ],\n        \"semantic_type\": \"\",\n        \"description\": \"\"\n      }\n    },\n    {\n      \"column\": \"size_area\",\n      \"properties\": {\n        \"dtype\": \"number\",\n        \"std\": null,\n        \"min\": 11.0,\n        \"max\": 11.0,\n        \"num_unique_values\": 1,\n        \"samples\": [\n          11.0\n        ],\n        \"semantic_type\": \"\",\n        \"description\": \"\"\n      }\n    },\n    {\n      \"column\": \"price\",\n      \"properties\": {\n        \"dtype\": \"number\",\n        \"std\": null,\n        \"min\": 8912900.0,\n        \"max\": 8912900.0,\n        \"num_unique_values\": 1,\n        \"samples\": [\n          8912900.0\n        ],\n        \"semantic_type\": \"\",\n        \"description\": \"\"\n      }\n    },\n    {\n      \"column\": \"total_item_cost\",\n      \"properties\": {\n        \"dtype\": \"number\",\n        \"std\": null,\n        \"min\": 4218600.0,\n        \"max\": 4218600.0,\n        \"num_unique_values\": 1,\n        \"samples\": [\n          4218600.0\n        ],\n        \"semantic_type\": \"\",\n        \"description\": \"\"\n      }\n    },\n    {\n      \"column\": \"jumlah_tenaga_kerja\",\n      \"properties\": {\n        \"dtype\": \"number\",\n        \"std\": null,\n        \"min\": 2.0,\n        \"max\": 2.0,\n        \"num_unique_values\": 1,\n        \"samples\": [\n          2.0\n        ],\n        \"semantic_type\": \"\",\n        \"description\": \"\"\n      }\n    },\n    {\n      \"column\": \"total_biaya_tenaga_kerja\",\n      \"properties\": {\n        \"dtype\": \"number\",\n        \"std\": null,\n        \"min\": 500000.0,\n        \"max\": 500000.0,\n        \"num_unique_values\": 1,\n        \"samples\": [\n          500000.0\n        ],\n        \"semantic_type\": \"\",\n        \"description\": \"\"\n      }\n    },\n    {\n      \"column\": \"total_cost\",\n      \"properties\": {\n        \"dtype\": \"number\",\n        \"std\": null,\n        \"min\": 4968600.0,\n        \"max\": 4968600.0,\n        \"num_unique_values\": 1,\n        \"samples\": [\n          4968600.0\n        ],\n        \"semantic_type\": \"\",\n        \"description\": \"\"\n      }\n    },\n    {\n      \"column\": \"revenue\",\n      \"properties\": {\n        \"dtype\": \"number\",\n        \"std\": null,\n        \"min\": 3944300.0,\n        \"max\": 3944300.0,\n        \"num_unique_values\": 1,\n        \"samples\": [\n          3944300.0\n        ],\n        \"semantic_type\": \"\",\n        \"description\": \"\"\n      }\n    },\n    {\n      \"column\": \"id_gardener\",\n      \"properties\": {\n        \"dtype\": \"number\",\n        \"std\": null,\n        \"min\": 1085.0,\n        \"max\": 1085.0,\n        \"num_unique_values\": 1,\n        \"samples\": [\n          1085.0\n        ],\n        \"semantic_type\": \"\",\n        \"description\": \"\"\n      }\n    }\n  ]\n}"
            }
          },
          "metadata": {},
          "execution_count": 157
        }
      ],
      "source": [
        "df.select_dtypes(['number']).mode()"
      ]
    },
    {
      "cell_type": "markdown",
      "metadata": {
        "id": "Do1liQ6tQFHQ"
      },
      "source": [
        "### Range"
      ]
    },
    {
      "cell_type": "code",
      "execution_count": null,
      "metadata": {
        "colab": {
          "base_uri": "https://localhost:8080/",
          "height": 398
        },
        "id": "1s0XYb73QTiQ",
        "outputId": "6bf48133-76bd-4f83-9d73-20cf501fd993"
      },
      "outputs": [
        {
          "output_type": "execute_result",
          "data": {
            "text/plain": [
              "id_order                    1.460000e+02\n",
              "id_user                     1.208000e+03\n",
              "size_area                   1.447250e+02\n",
              "price                       9.578709e+07\n",
              "total_item_cost             5.503990e+07\n",
              "jumlah_tenaga_kerja         3.000000e+00\n",
              "total_biaya_tenaga_kerja    7.500000e+05\n",
              "total_cost                  5.480920e+07\n",
              "revenue                     4.149719e+07\n",
              "id_gardener                 1.361000e+03\n",
              "dtype: float64"
            ],
            "text/html": [
              "<div>\n",
              "<style scoped>\n",
              "    .dataframe tbody tr th:only-of-type {\n",
              "        vertical-align: middle;\n",
              "    }\n",
              "\n",
              "    .dataframe tbody tr th {\n",
              "        vertical-align: top;\n",
              "    }\n",
              "\n",
              "    .dataframe thead th {\n",
              "        text-align: right;\n",
              "    }\n",
              "</style>\n",
              "<table border=\"1\" class=\"dataframe\">\n",
              "  <thead>\n",
              "    <tr style=\"text-align: right;\">\n",
              "      <th></th>\n",
              "      <th>0</th>\n",
              "    </tr>\n",
              "  </thead>\n",
              "  <tbody>\n",
              "    <tr>\n",
              "      <th>id_order</th>\n",
              "      <td>1.460000e+02</td>\n",
              "    </tr>\n",
              "    <tr>\n",
              "      <th>id_user</th>\n",
              "      <td>1.208000e+03</td>\n",
              "    </tr>\n",
              "    <tr>\n",
              "      <th>size_area</th>\n",
              "      <td>1.447250e+02</td>\n",
              "    </tr>\n",
              "    <tr>\n",
              "      <th>price</th>\n",
              "      <td>9.578709e+07</td>\n",
              "    </tr>\n",
              "    <tr>\n",
              "      <th>total_item_cost</th>\n",
              "      <td>5.503990e+07</td>\n",
              "    </tr>\n",
              "    <tr>\n",
              "      <th>jumlah_tenaga_kerja</th>\n",
              "      <td>3.000000e+00</td>\n",
              "    </tr>\n",
              "    <tr>\n",
              "      <th>total_biaya_tenaga_kerja</th>\n",
              "      <td>7.500000e+05</td>\n",
              "    </tr>\n",
              "    <tr>\n",
              "      <th>total_cost</th>\n",
              "      <td>5.480920e+07</td>\n",
              "    </tr>\n",
              "    <tr>\n",
              "      <th>revenue</th>\n",
              "      <td>4.149719e+07</td>\n",
              "    </tr>\n",
              "    <tr>\n",
              "      <th>id_gardener</th>\n",
              "      <td>1.361000e+03</td>\n",
              "    </tr>\n",
              "  </tbody>\n",
              "</table>\n",
              "</div><br><label><b>dtype:</b> float64</label>"
            ]
          },
          "metadata": {},
          "execution_count": 158
        }
      ],
      "source": [
        "df.select_dtypes(['number']).max() - df.select_dtypes(['number']).min()"
      ]
    },
    {
      "cell_type": "code",
      "execution_count": null,
      "metadata": {
        "colab": {
          "base_uri": "https://localhost:8080/"
        },
        "id": "UtqfoPzMQdSZ",
        "outputId": "c0ed0630-23b4-4429-ebef-2735cba87e06"
      },
      "outputs": [
        {
          "output_type": "stream",
          "name": "stdout",
          "text": [
            "145.725 1.0\n",
            "Range of size_area : 144.725\n"
          ]
        }
      ],
      "source": [
        "print(df['size_area'].max(), df['size_area'].min())\n",
        "print(\"Range of size_area :\", df['size_area'].max() - df['size_area'].min())"
      ]
    },
    {
      "cell_type": "code",
      "execution_count": null,
      "metadata": {
        "colab": {
          "base_uri": "https://localhost:8080/"
        },
        "id": "WjQqEHzHQsRV",
        "outputId": "4753fb6a-8a87-40e4-b174-fd4478856f8c"
      },
      "outputs": [
        {
          "output_type": "stream",
          "name": "stdout",
          "text": [
            "97412240 1625150\n",
            "Range of price : 95787090\n"
          ]
        }
      ],
      "source": [
        "print(df['price'].max(), df['price'].min())\n",
        "print(\"Range of price :\", df['price'].max() - df['price'].min())"
      ]
    },
    {
      "cell_type": "code",
      "execution_count": null,
      "metadata": {
        "colab": {
          "base_uri": "https://localhost:8080/"
        },
        "id": "M1ZOET4UQwea",
        "outputId": "629ba3fd-d4c8-48b1-b67b-edaea998e775"
      },
      "outputs": [
        {
          "output_type": "stream",
          "name": "stdout",
          "text": [
            "55396899 357000\n",
            "Range of total_item_cost : 55039899\n"
          ]
        }
      ],
      "source": [
        "print(df['total_item_cost'].max(), df['total_item_cost'].min())\n",
        "print(\"Range of total_item_cost :\", df['total_item_cost'].max() - df['total_item_cost'].min())"
      ]
    },
    {
      "cell_type": "code",
      "execution_count": null,
      "metadata": {
        "colab": {
          "base_uri": "https://localhost:8080/"
        },
        "id": "SYtvLw-kQ5Zy",
        "outputId": "b94da29e-57ae-4309-b750-3c6b577b291a"
      },
      "outputs": [
        {
          "output_type": "stream",
          "name": "stdout",
          "text": [
            "5 2\n",
            "Range of jumlah_tenaga_kerja : 3\n"
          ]
        }
      ],
      "source": [
        "print(df['jumlah_tenaga_kerja'].max(), df['jumlah_tenaga_kerja'].min())\n",
        "print(\"Range of jumlah_tenaga_kerja :\", df['jumlah_tenaga_kerja'].max() - df['jumlah_tenaga_kerja'].min())"
      ]
    },
    {
      "cell_type": "code",
      "execution_count": null,
      "metadata": {
        "colab": {
          "base_uri": "https://localhost:8080/"
        },
        "id": "yucIJWugQ_9Q",
        "outputId": "e85f1ef3-6e52-4980-b58e-68faada3ec0f"
      },
      "outputs": [
        {
          "output_type": "stream",
          "name": "stdout",
          "text": [
            "1250000 500000\n",
            "Range of total_biaya_tenaga_kerja : 750000\n"
          ]
        }
      ],
      "source": [
        "print(df['total_biaya_tenaga_kerja'].max(), df['total_biaya_tenaga_kerja'].min())\n",
        "print(\"Range of total_biaya_tenaga_kerja :\", df['total_biaya_tenaga_kerja'].max() - df['total_biaya_tenaga_kerja'].min())"
      ]
    },
    {
      "cell_type": "code",
      "execution_count": null,
      "metadata": {
        "colab": {
          "base_uri": "https://localhost:8080/"
        },
        "id": "1plj7mNCSL7q",
        "outputId": "93a2c6a1-f1bd-468f-8ad7-55e80cc099cb"
      },
      "outputs": [
        {
          "output_type": "stream",
          "name": "stdout",
          "text": [
            "55896899 1087700\n",
            "Range of total_cost : 54809199\n"
          ]
        }
      ],
      "source": [
        "print(df['total_cost'].max(), df['total_cost'].min())\n",
        "print(\"Range of total_cost :\", df['total_cost'].max() - df['total_cost'].min())"
      ]
    },
    {
      "cell_type": "code",
      "execution_count": null,
      "metadata": {
        "colab": {
          "base_uri": "https://localhost:8080/"
        },
        "id": "Ps2nJMd0SOyf",
        "outputId": "9c6dc11e-902b-483d-d52c-6d326e472387"
      },
      "outputs": [
        {
          "output_type": "stream",
          "name": "stdout",
          "text": [
            "41515341 18150\n",
            "Range of revenue : 41497191\n"
          ]
        }
      ],
      "source": [
        "print(df['revenue'].max(), df['revenue'].min())\n",
        "print(\"Range of revenue :\", df['revenue'].max() - df['revenue'].min())"
      ]
    },
    {
      "cell_type": "markdown",
      "metadata": {
        "id": "0h-qaLClSWIx"
      },
      "source": [
        "### Standard Deviation"
      ]
    },
    {
      "cell_type": "code",
      "execution_count": null,
      "metadata": {
        "colab": {
          "base_uri": "https://localhost:8080/",
          "height": 398
        },
        "id": "SGpsUqWsSX4B",
        "outputId": "b2781f99-03d9-4756-d333-fe44d285c87c"
      },
      "outputs": [
        {
          "output_type": "execute_result",
          "data": {
            "text/plain": [
              "id_order                    4.285159e+01\n",
              "id_user                     2.872614e+02\n",
              "size_area                   1.861051e+01\n",
              "price                       1.190295e+07\n",
              "total_item_cost             6.187656e+06\n",
              "jumlah_tenaga_kerja         1.026195e+00\n",
              "total_biaya_tenaga_kerja    2.565489e+05\n",
              "total_cost                  6.257959e+06\n",
              "revenue                     5.966180e+06\n",
              "id_gardener                 2.935381e+02\n",
              "dtype: float64"
            ],
            "text/html": [
              "<div>\n",
              "<style scoped>\n",
              "    .dataframe tbody tr th:only-of-type {\n",
              "        vertical-align: middle;\n",
              "    }\n",
              "\n",
              "    .dataframe tbody tr th {\n",
              "        vertical-align: top;\n",
              "    }\n",
              "\n",
              "    .dataframe thead th {\n",
              "        text-align: right;\n",
              "    }\n",
              "</style>\n",
              "<table border=\"1\" class=\"dataframe\">\n",
              "  <thead>\n",
              "    <tr style=\"text-align: right;\">\n",
              "      <th></th>\n",
              "      <th>0</th>\n",
              "    </tr>\n",
              "  </thead>\n",
              "  <tbody>\n",
              "    <tr>\n",
              "      <th>id_order</th>\n",
              "      <td>4.285159e+01</td>\n",
              "    </tr>\n",
              "    <tr>\n",
              "      <th>id_user</th>\n",
              "      <td>2.872614e+02</td>\n",
              "    </tr>\n",
              "    <tr>\n",
              "      <th>size_area</th>\n",
              "      <td>1.861051e+01</td>\n",
              "    </tr>\n",
              "    <tr>\n",
              "      <th>price</th>\n",
              "      <td>1.190295e+07</td>\n",
              "    </tr>\n",
              "    <tr>\n",
              "      <th>total_item_cost</th>\n",
              "      <td>6.187656e+06</td>\n",
              "    </tr>\n",
              "    <tr>\n",
              "      <th>jumlah_tenaga_kerja</th>\n",
              "      <td>1.026195e+00</td>\n",
              "    </tr>\n",
              "    <tr>\n",
              "      <th>total_biaya_tenaga_kerja</th>\n",
              "      <td>2.565489e+05</td>\n",
              "    </tr>\n",
              "    <tr>\n",
              "      <th>total_cost</th>\n",
              "      <td>6.257959e+06</td>\n",
              "    </tr>\n",
              "    <tr>\n",
              "      <th>revenue</th>\n",
              "      <td>5.966180e+06</td>\n",
              "    </tr>\n",
              "    <tr>\n",
              "      <th>id_gardener</th>\n",
              "      <td>2.935381e+02</td>\n",
              "    </tr>\n",
              "  </tbody>\n",
              "</table>\n",
              "</div><br><label><b>dtype:</b> float64</label>"
            ]
          },
          "metadata": {},
          "execution_count": 166
        }
      ],
      "source": [
        "df.select_dtypes(['number']).std()"
      ]
    },
    {
      "cell_type": "markdown",
      "metadata": {
        "id": "66wWJpXPSfRZ"
      },
      "source": [
        "### Variance"
      ]
    },
    {
      "cell_type": "code",
      "execution_count": null,
      "metadata": {
        "colab": {
          "base_uri": "https://localhost:8080/",
          "height": 398
        },
        "id": "O_2Wia1KSg2B",
        "outputId": "744cc343-09e3-4c96-b0fb-58483f3c758e"
      },
      "outputs": [
        {
          "output_type": "execute_result",
          "data": {
            "text/plain": [
              "id_order                    1.836259e+03\n",
              "id_user                     8.251909e+04\n",
              "size_area                   3.463513e+02\n",
              "price                       1.416803e+14\n",
              "total_item_cost             3.828709e+13\n",
              "jumlah_tenaga_kerja         1.053077e+00\n",
              "total_biaya_tenaga_kerja    6.581732e+10\n",
              "total_cost                  3.916205e+13\n",
              "revenue                     3.559531e+13\n",
              "id_gardener                 8.616459e+04\n",
              "dtype: float64"
            ],
            "text/html": [
              "<div>\n",
              "<style scoped>\n",
              "    .dataframe tbody tr th:only-of-type {\n",
              "        vertical-align: middle;\n",
              "    }\n",
              "\n",
              "    .dataframe tbody tr th {\n",
              "        vertical-align: top;\n",
              "    }\n",
              "\n",
              "    .dataframe thead th {\n",
              "        text-align: right;\n",
              "    }\n",
              "</style>\n",
              "<table border=\"1\" class=\"dataframe\">\n",
              "  <thead>\n",
              "    <tr style=\"text-align: right;\">\n",
              "      <th></th>\n",
              "      <th>0</th>\n",
              "    </tr>\n",
              "  </thead>\n",
              "  <tbody>\n",
              "    <tr>\n",
              "      <th>id_order</th>\n",
              "      <td>1.836259e+03</td>\n",
              "    </tr>\n",
              "    <tr>\n",
              "      <th>id_user</th>\n",
              "      <td>8.251909e+04</td>\n",
              "    </tr>\n",
              "    <tr>\n",
              "      <th>size_area</th>\n",
              "      <td>3.463513e+02</td>\n",
              "    </tr>\n",
              "    <tr>\n",
              "      <th>price</th>\n",
              "      <td>1.416803e+14</td>\n",
              "    </tr>\n",
              "    <tr>\n",
              "      <th>total_item_cost</th>\n",
              "      <td>3.828709e+13</td>\n",
              "    </tr>\n",
              "    <tr>\n",
              "      <th>jumlah_tenaga_kerja</th>\n",
              "      <td>1.053077e+00</td>\n",
              "    </tr>\n",
              "    <tr>\n",
              "      <th>total_biaya_tenaga_kerja</th>\n",
              "      <td>6.581732e+10</td>\n",
              "    </tr>\n",
              "    <tr>\n",
              "      <th>total_cost</th>\n",
              "      <td>3.916205e+13</td>\n",
              "    </tr>\n",
              "    <tr>\n",
              "      <th>revenue</th>\n",
              "      <td>3.559531e+13</td>\n",
              "    </tr>\n",
              "    <tr>\n",
              "      <th>id_gardener</th>\n",
              "      <td>8.616459e+04</td>\n",
              "    </tr>\n",
              "  </tbody>\n",
              "</table>\n",
              "</div><br><label><b>dtype:</b> float64</label>"
            ]
          },
          "metadata": {},
          "execution_count": 167
        }
      ],
      "source": [
        "df.select_dtypes(['number']).var()"
      ]
    },
    {
      "cell_type": "markdown",
      "metadata": {
        "id": "K3nL9ZALS6FK"
      },
      "source": [
        "### Distribution"
      ]
    },
    {
      "cell_type": "code",
      "execution_count": null,
      "metadata": {
        "colab": {
          "base_uri": "https://localhost:8080/",
          "height": 1000
        },
        "id": "jaFRarH9S9A6",
        "outputId": "24dc92c2-a918-48da-e315-757abc527e9a"
      },
      "outputs": [
        {
          "output_type": "display_data",
          "data": {
            "text/plain": [
              "<Figure size 1300x1000 with 7 Axes>"
            ],
            "image/png": "[encoded data removed]"
          },
          "metadata": {}
        }
      ],
      "source": [
        "plt.figure(figsize=(13, 10))\n",
        "\n",
        "plt.subplot(3, 3, 1)\n",
        "sns.histplot(df['size_area'], bins=20, kde=True)\n",
        "plt.title('Distribution of size_area')\n",
        "\n",
        "plt.subplot(3, 3, 2)\n",
        "sns.histplot(df['price'], bins=20, kde=True)\n",
        "plt.title('Distribution of price')\n",
        "\n",
        "plt.subplot(3, 3, 3)\n",
        "sns.histplot(df['total_item_cost'], bins=20, kde=True)\n",
        "plt.title('Distribution of total_item_cost')\n",
        "\n",
        "plt.subplot(3, 3, 4)\n",
        "sns.histplot(df['jumlah_tenaga_kerja'], bins=20, kde=True)\n",
        "plt.title('Distribution of jumlah_tenaga_kerja')\n",
        "\n",
        "plt.subplot(3, 3, 5)\n",
        "sns.histplot(df['total_biaya_tenaga_kerja'], bins=20, kde=True)\n",
        "plt.title('Distribution of total_biaya_tenaga_kerja')\n",
        "\n",
        "plt.subplot(3, 3, 6)\n",
        "sns.histplot(df['total_cost'], bins=20, kde=True)\n",
        "plt.title('Distribution of total_cost')\n",
        "\n",
        "plt.subplot(3, 3, 7)\n",
        "sns.histplot(df['revenue'], bins=20, kde=True)\n",
        "plt.title('Distribution of revenue')\n",
        "\n",
        "plt.tight_layout()\n",
        "plt.show()"
      ]
    },
    {
      "cell_type": "code",
      "execution_count": null,
      "metadata": {
        "colab": {
          "base_uri": "https://localhost:8080/",
          "height": 688
        },
        "id": "kNFdsriAUWKC",
        "outputId": "d1c0709d-d423-494a-9300-8b6ff37e52bc"
      },
      "outputs": [
        {
          "output_type": "display_data",
          "data": {
            "text/plain": [
              "<Figure size 800x600 with 2 Axes>"
            ],
            "image/png": "[encoded data removed]"
          },
          "metadata": {}
        }
      ],
      "source": [
        "plt.figure(figsize=(8,6))\n",
        "sns.heatmap(df[[\"size_area\", \"price\", \"total_item_cost\", \"jumlah_tenaga_kerja\", \"total_biaya_tenaga_kerja\", \"total_cost\", \"revenue\"]].corr(), annot= True)\n",
        "plt.show()"
      ]
    },
    {
      "cell_type": "markdown",
      "metadata": {
        "id": "_WeHlCeX8DC2"
      },
      "source": [
        "# Insight"
      ]
    },
    {
      "cell_type": "markdown",
      "metadata": {
        "id": "ZTcyR48Y8DC2"
      },
      "source": [
        "- insight 1\n",
        "- insight 2\n",
        "- ...."
      ]
    },
    {
      "cell_type": "markdown",
      "metadata": {
        "id": "fLMO9wl5WZj6"
      },
      "source": [
        "# Conclusion"
      ]
    },
    {
      "cell_type": "markdown",
      "metadata": {
        "id": "XSrjIFViW34J"
      },
      "source": [
        "- Conclution insight 1\n",
        "- Conclution insight 2\n",
        "- ...."
      ]
    }
  ],
  "metadata": {
    "colab": {
      "provenance": []
    },
    "firstTimeUsingHintbot": true,
    "kernelspec": {
      "display_name": "Python 3 (ipykernel)",
      "language": "python",
      "name": "python3"
    },
    "language_info": {
      "codemirror_mode": {
        "name": "ipython",
        "version": 3
      },
      "file_extension": ".py",
      "mimetype": "text/x-python",
      "name": "python",
      "nbconvert_exporter": "python",
      "pygments_lexer": "ipython3",
      "version": "3.12.7"
    },
    "vscode": {
      "interpreter": {
        "hash": "972b3bf27e332e87b5379f2791f6ef9dfc79c71018c370b0d7423235e20fe4d7"
      }
    }
  },
  "nbformat": 4,
  "nbformat_minor": 0
}